{
 "cells": [
  {
   "cell_type": "markdown",
   "metadata": {},
   "source": [
    "### Week 9: Version Control (Git, Github)"
   ]
  },
  {
   "cell_type": "markdown",
   "metadata": {},
   "source": [
    "#### Topics\n",
    "o What is the version control system? What is Git and GitHub?\n",
    "o Basic commands: add, commit, push.\n",
    "o Branches, reverting change, HEAD, Diff and Merge\n",
    "o Pull requests\n",
    "\n",
    "#### Learning Resources\n",
    "o YT playlist (codebasics): https://bit.ly/3SECQQ7\n",
    "o YT playlist (Corey): https://bit.ly/3T0Yrmb\n",
    "\n",
    "#### Motivation\n",
    "o Mechanical to Deep Learning Engineer: https://bit.ly/48lX9aR\n",
    "\n",
    "#### Core/Soft Skills\n",
    "o Presentation skills\n",
    "    Death by PowerPoint: https://youtu.be/Iwpi1Lm6dFo"
   ]
  },
  {
   "cell_type": "code",
   "execution_count": null,
   "metadata": {},
   "outputs": [],
   "source": []
  }
 ],
 "metadata": {
  "language_info": {
   "name": "python"
  }
 },
 "nbformat": 4,
 "nbformat_minor": 2
}
