{
 "cells": [
  {
   "cell_type": "markdown",
   "metadata": {},
   "source": [
    "### What is DSA?\n",
    "\n",
    "**DSA (Data Structures and Algorithms)** is a fundamental concept in computer science that deals with organizing and processing data efficiently. Data structures are ways to store and organize data, while algorithms are step-by-step procedures used to perform tasks or solve problems.\n",
    "\n",
    "### Importance of DSA:\n",
    "\n",
    "1. **Efficient Problem-Solving**: Helps in writing optimized code for complex tasks by choosing the right data structure and algorithm.\n",
    "2. **Better Coding Skills**: Mastering DSA improves your problem-solving skills, which is essential for coding interviews and competitive programming.\n",
    "3. **Foundational Knowledge**: Understanding DSA is crucial for developing scalable software and systems.\n",
    "4. **Job Interviews**: DSA is a major focus in technical interviews for software development roles.\n",
    "\n",
    "### Example of DSA in Action:\n",
    "\n",
    "- **Searching an Element in a List**:\n",
    "  - With an unsorted list: You might have to check every element (linear search), which is \\(O(n)\\).\n",
    "  - With a sorted list: You can use binary search, reducing the time to \\(O(\\log n)\\), making it much faster.\n",
    "\n",
    "### Types of DSA:\n",
    "\n",
    "1. **Linear Data Structures**:\n",
    "   - **Definition**: Data is arranged sequentially, one after another. \n",
    "   - **Examples**:\n",
    "     - **Array**: A collection of items stored at contiguous memory locations. Used to store multiple item of same type\n",
    "       - e.g : Array of student marks |12|23|45|54|12|56|87|98|45|23|\n",
    "       - **Advantage**:\n",
    "        - Time Complexity of read operations on an array is \\(O(1)\\) {search, read, index}\n",
    "       - **Disadvantage**:\n",
    "        - Fixed Size\n",
    "        - Homogenous (Store same Data type) e.g: 1, 3, 4, 5 , 6, 7\n",
    "        - Time Complexity of write operations on an array is \\(O(n)\\) {insert, delete}\n",
    "        - Memory Wastage : if the array size is 5000 and the array is complete then dynamic array creation new<br> array with the Double of   Old array and you want to one item in array then remaining array is memory waste mean then the old is 5000 that new array is 10000 and you add only item the remaining 4999 memory location is memory Wastage.\n",
    "     - **Linked List**: A series of nodes where each node contains data and a reference to the next node.\n",
    "     - **Stack**: A collection that follows LIFO (Last In, First Out) principle.\n",
    "     - **Queue**: A collection that follows FIFO (First In, First Out) principle.\n",
    "   - **Usage**: Useful for scenarios where data is processed in a sequence or order.\n",
    "\n",
    "2. **Non-Linear Data Structures**:\n",
    "   - **Definition**: Data is not arranged sequentially; it can branch out in various directions.\n",
    "   - **Examples**:\n",
    "     - **Tree**: A hierarchical structure with a root node and child nodes (e.g., binary tree).\n",
    "     - **Graph**: A collection of nodes (vertices) connected by edges; useful for representing networks.\n",
    "     - **Heap**: A special tree-based structure used for priority queues.\n",
    "   - **Usage**: Useful for representing hierarchical or interconnected data like social networks, file systems, etc.\n",
    "\n",
    "By understanding DSA, you'll be better equipped to solve problems in a structured and optimized way, which is key in both academic and professional coding challenges."
   ]
  },
  {
   "cell_type": "markdown",
   "metadata": {},
   "source": [
    "##### Create a dynamic Array (list)"
   ]
  },
  {
   "cell_type": "code",
   "execution_count": 1,
   "metadata": {},
   "outputs": [],
   "source": [
    "import ctypes"
   ]
  },
  {
   "cell_type": "code",
   "execution_count": 287,
   "metadata": {},
   "outputs": [],
   "source": [
    "\n",
    "class Array:\n",
    "    def __init__(self):\n",
    "        self.size = 1\n",
    "        self.n = 0\n",
    "        # create a C type Array with size = self.size\n",
    "        self.A = self.create_array(self.size)\n",
    "\n",
    "    def __len__(self):\n",
    "        return self.n\n",
    "    \n",
    "    def append(self, ele):\n",
    "        if self.n == self.size:\n",
    "            self.resize(2 * self.size)\n",
    "        self.A[self.n] = ele\n",
    "        self.n += 1\n",
    "\n",
    "    def resize(self, new_size):\n",
    "        new_A = self.create_array(new_size)\n",
    "        for i in range(self.n):\n",
    "            new_A[i] = self.A[i]\n",
    "        self.A = new_A\n",
    "        self.size = new_size\n",
    "\n",
    "    def __str__(self) -> str:\n",
    "        return str(self.A[:self.n])\n",
    "    \n",
    "    def __getitem__(self, index):\n",
    "        if  0 <= index < self.n:\n",
    "            return self.A[index]\n",
    "        else:\n",
    "            return 'IndexError - Index out of range'\n",
    "    \n",
    "    def __setitem__(self, index, value):\n",
    "        if  0 <= index <= self.n:\n",
    "            self.A[index] = value\n",
    "        else:\n",
    "            return 'IndexError - Index out of range'\n",
    "        \n",
    "    def __delitem__(self, ele):\n",
    "        if 0<= ele < self.n: \n",
    "            for i in range(ele, self.n-1):\n",
    "                self.A[i] = self.A[i + 1]\n",
    "                \n",
    "            self.n = self.n-1\n",
    "\n",
    "    def remove(self, ele):\n",
    "       pos = self.index(ele)\n",
    "\n",
    "       if type(pos) == int:\n",
    "           self.__delitem__(pos)\n",
    "       else:\n",
    "            return pos\n",
    "\n",
    "    \n",
    "    \n",
    "    def pop(self):\n",
    "        if self.n == 0:\n",
    "            return 'Empty List'\n",
    "        print(self.A[self.n-1])\n",
    "        self.n = self.n-1\n",
    "\n",
    "    def clear(self):\n",
    "        self.n = 0\n",
    "        self.size = 1\n",
    "\n",
    "    def index(self, ele):\n",
    "        for i in range(self.n):\n",
    "            if self.A[i] == ele:\n",
    "                return i\n",
    "        return 'ValueError - Element not found'\n",
    "\n",
    "    def insert(self, pos, ele):\n",
    "        if self.n == self.size:\n",
    "            self.resize(2 * self.size)\n",
    "        for i in range(self.n, pos, -1):\n",
    "            self.A[i] = self.A[i-1]\n",
    "        self.A[pos] = ele\n",
    "        self.n = self.n + 1\n",
    "            \n",
    "\n",
    "    def create_array(self, capacity):\n",
    "        return (capacity * ctypes.py_object)()"
   ]
  },
  {
   "cell_type": "markdown",
   "metadata": {},
   "source": [
    "add more feature in the above class sort , min, max, sum, extend, slicing, Merge and negative indexing"
   ]
  },
  {
   "cell_type": "code",
   "execution_count": 288,
   "metadata": {},
   "outputs": [],
   "source": [
    "l = Array()"
   ]
  },
  {
   "cell_type": "code",
   "execution_count": 289,
   "metadata": {},
   "outputs": [],
   "source": [
    "l.append('hello world')\n",
    "l.append(12)\n",
    "l.append(12.34)\n",
    "l.append(True)"
   ]
  },
  {
   "cell_type": "code",
   "execution_count": 237,
   "metadata": {},
   "outputs": [
    {
     "data": {
      "text/plain": [
       "4"
      ]
     },
     "execution_count": 237,
     "metadata": {},
     "output_type": "execute_result"
    }
   ],
   "source": [
    "len(l)"
   ]
  },
  {
   "cell_type": "code",
   "execution_count": 266,
   "metadata": {},
   "outputs": [],
   "source": [
    "del l[10]"
   ]
  },
  {
   "cell_type": "code",
   "execution_count": 267,
   "metadata": {},
   "outputs": [
    {
     "name": "stdout",
     "output_type": "stream",
     "text": [
      "['hello world', 12.34, True]\n"
     ]
    }
   ],
   "source": [
    "print(l)"
   ]
  },
  {
   "cell_type": "code",
   "execution_count": 103,
   "metadata": {},
   "outputs": [
    {
     "data": {
      "text/plain": [
       "12"
      ]
     },
     "execution_count": 103,
     "metadata": {},
     "output_type": "execute_result"
    }
   ],
   "source": [
    "l[3]"
   ]
  },
  {
   "cell_type": "code",
   "execution_count": 107,
   "metadata": {},
   "outputs": [],
   "source": [
    "l[1] = 1"
   ]
  },
  {
   "cell_type": "code",
   "execution_count": 276,
   "metadata": {},
   "outputs": [
    {
     "name": "stdout",
     "output_type": "stream",
     "text": [
      "['hello world', 12, 12.34, True]\n"
     ]
    }
   ],
   "source": [
    "print(l)"
   ]
  },
  {
   "cell_type": "code",
   "execution_count": 279,
   "metadata": {},
   "outputs": [
    {
     "data": {
      "text/plain": [
       "'Element not found'"
      ]
     },
     "execution_count": 279,
     "metadata": {},
     "output_type": "execute_result"
    }
   ],
   "source": [
    "l.remove(12)"
   ]
  },
  {
   "cell_type": "code",
   "execution_count": 278,
   "metadata": {},
   "outputs": [
    {
     "name": "stdout",
     "output_type": "stream",
     "text": [
      "['hello world', 12.34, True]\n"
     ]
    }
   ],
   "source": [
    "print(l)"
   ]
  },
  {
   "cell_type": "code",
   "execution_count": 140,
   "metadata": {},
   "outputs": [
    {
     "data": {
      "text/plain": [
       "'Empty List'"
      ]
     },
     "execution_count": 140,
     "metadata": {},
     "output_type": "execute_result"
    }
   ],
   "source": [
    "l.pop()"
   ]
  },
  {
   "cell_type": "code",
   "execution_count": 167,
   "metadata": {},
   "outputs": [
    {
     "name": "stdout",
     "output_type": "stream",
     "text": [
      "['hello world', 12, 12, 12]\n"
     ]
    }
   ],
   "source": [
    "print(l)"
   ]
  },
  {
   "cell_type": "code",
   "execution_count": 146,
   "metadata": {},
   "outputs": [],
   "source": [
    "l.clear()"
   ]
  },
  {
   "cell_type": "code",
   "execution_count": 294,
   "metadata": {},
   "outputs": [
    {
     "data": {
      "text/plain": [
       "0"
      ]
     },
     "execution_count": 294,
     "metadata": {},
     "output_type": "execute_result"
    }
   ],
   "source": [
    "l.index('hello world')"
   ]
  },
  {
   "cell_type": "code",
   "execution_count": 201,
   "metadata": {},
   "outputs": [],
   "source": [
    "l.insert(3, 'hi')"
   ]
  },
  {
   "cell_type": "code",
   "execution_count": 202,
   "metadata": {},
   "outputs": [
    {
     "name": "stdout",
     "output_type": "stream",
     "text": [
      "['hello world', 23, 12, 'hi', 12.34, True]\n"
     ]
    }
   ],
   "source": [
    "print(l)"
   ]
  },
  {
   "cell_type": "code",
   "execution_count": 222,
   "metadata": {},
   "outputs": [],
   "source": [
    "del l[12]"
   ]
  },
  {
   "cell_type": "code",
   "execution_count": 223,
   "metadata": {},
   "outputs": [
    {
     "name": "stdout",
     "output_type": "stream",
     "text": [
      "['hello world', 12.34, True]\n"
     ]
    }
   ],
   "source": [
    "print(l)"
   ]
  },
  {
   "cell_type": "code",
   "execution_count": null,
   "metadata": {},
   "outputs": [],
   "source": []
  }
 ],
 "metadata": {
  "kernelspec": {
   "display_name": "Python 3",
   "language": "python",
   "name": "python3"
  },
  "language_info": {
   "codemirror_mode": {
    "name": "ipython",
    "version": 3
   },
   "file_extension": ".py",
   "mimetype": "text/x-python",
   "name": "python",
   "nbconvert_exporter": "python",
   "pygments_lexer": "ipython3",
   "version": "3.12.4"
  }
 },
 "nbformat": 4,
 "nbformat_minor": 2
}
