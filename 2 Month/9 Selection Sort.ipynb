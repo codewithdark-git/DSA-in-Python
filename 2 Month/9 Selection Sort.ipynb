{
 "cells": [
  {
   "cell_type": "markdown",
   "metadata": {},
   "source": [
    "### Selection Sort <br>\n",
    "Time complexity: O(n^2) <br>\n",
    "Space complexity: O(1) <br>\n",
    "Is Not adapted\n",
    "Is Not Stable\n",
    "Benefits: less swapping ByComparator to bubble sort."
   ]
  },
  {
   "cell_type": "code",
   "execution_count": 19,
   "metadata": {},
   "outputs": [],
   "source": [
    "def selection_sort(arr):\n",
    "    for i in range(len(arr)-1):\n",
    "        # print(i+1, \"round\")\n",
    "\n",
    "        min_index = i\n",
    "        # print(f\"min_index = {arr[min_index]}\")\n",
    "        for j in range(i+1, len(arr)):\n",
    "            # print('current item', arr[j], 'min item,', arr[min_index])\n",
    "            if arr[j] < arr[min_index]:\n",
    "                # print(f\"{arr[j]} is smaller than {arr[min_index]}\")/\n",
    "                min_index = j\n",
    "                # print(f\"min_index = {min_index} brake\")\n",
    "        arr[i], arr[min_index] = arr[min_index], arr[i]\n",
    "        # print(arr)\n",
    "        # print('*'*20)\n",
    "    return arr"
   ]
  },
  {
   "cell_type": "code",
   "execution_count": 20,
   "metadata": {},
   "outputs": [
    {
     "name": "stdout",
     "output_type": "stream",
     "text": [
      "1 round\n",
      "min_index = 5\n",
      "current item 3 min item, 5\n",
      "3 is smaller than 5\n",
      "min_index = 1 brake\n",
      "current item 8 min item, 3\n",
      "current item 6 min item, 3\n",
      "current item 7 min item, 3\n",
      "current item 2 min item, 3\n",
      "2 is smaller than 3\n",
      "min_index = 5 brake\n",
      "[2, 3, 8, 6, 7, 5]\n",
      "********************\n",
      "2 round\n",
      "min_index = 3\n",
      "current item 8 min item, 3\n",
      "current item 6 min item, 3\n",
      "current item 7 min item, 3\n",
      "current item 5 min item, 3\n",
      "[2, 3, 8, 6, 7, 5]\n",
      "********************\n",
      "3 round\n",
      "min_index = 8\n",
      "current item 6 min item, 8\n",
      "6 is smaller than 8\n",
      "min_index = 3 brake\n",
      "current item 7 min item, 6\n",
      "current item 5 min item, 6\n",
      "5 is smaller than 6\n",
      "min_index = 5 brake\n",
      "[2, 3, 5, 6, 7, 8]\n",
      "********************\n",
      "4 round\n",
      "min_index = 6\n",
      "current item 7 min item, 6\n",
      "current item 8 min item, 6\n",
      "[2, 3, 5, 6, 7, 8]\n",
      "********************\n",
      "5 round\n",
      "min_index = 7\n",
      "current item 8 min item, 7\n",
      "[2, 3, 5, 6, 7, 8]\n",
      "********************\n",
      "[2, 3, 5, 6, 7, 8]\n"
     ]
    }
   ],
   "source": [
    "l = [5, 3, 8, 6, 7, 2]\n",
    "selection_sort(l)"
   ]
  },
  {
   "cell_type": "code",
   "execution_count": null,
   "metadata": {},
   "outputs": [],
   "source": []
  }
 ],
 "metadata": {
  "kernelspec": {
   "display_name": "Python 3",
   "language": "python",
   "name": "python3"
  },
  "language_info": {
   "codemirror_mode": {
    "name": "ipython",
    "version": 3
   },
   "file_extension": ".py",
   "mimetype": "text/x-python",
   "name": "python",
   "nbconvert_exporter": "python",
   "pygments_lexer": "ipython3",
   "version": "3.12.4"
  }
 },
 "nbformat": 4,
 "nbformat_minor": 2
}
