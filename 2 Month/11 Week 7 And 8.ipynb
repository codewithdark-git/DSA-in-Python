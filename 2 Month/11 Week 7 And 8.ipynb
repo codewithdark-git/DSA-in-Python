{
 "cells": [
  {
   "cell_type": "markdown",
   "metadata": {},
   "source": [
    "### Week 7, 8: Advance Python"
   ]
  },
  {
   "cell_type": "markdown",
   "metadata": {},
   "source": [
    "#### Topics\n",
    "o Inheritance, Generators, Iterators\n",
    "o List Comprehensions, Decorators\n",
    "o Multithreading, Multiprocessing\n",
    "\n",
    "#### Learning Resources\n",
    "o Python Tutorials (Codebasics) on YouTube (17th to 27th video)\n",
    "- https://bit.ly/3X6CCC7\n",
    "  \n",
    "o Python Course (Github)\n",
    "- [link >>>](https://github.com/codewithdark-git/Advance-Python-by-NAVTTC.git)\n",
    "\n",
    "\n",
    "\n",
    "#### Learning Resources\n",
    "o Python Tutorials (Codebasics) on YouTube (17th to 27th video)\n",
    "- https://bit.ly/3X6CCC7"
   ]
  }
 ],
 "metadata": {
  "language_info": {
   "name": "python"
  }
 },
 "nbformat": 4,
 "nbformat_minor": 2
}
