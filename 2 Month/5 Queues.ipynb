{
 "cells": [
  {
   "cell_type": "markdown",
   "metadata": {},
   "source": [
    "### What is a Queue?\n",
    "\n",
    "A **queue** is a linear data structure that follows the **First-In-First-Out (FIFO)** principle. This means that the first element added to the queue will be the first one to be removed, just like a real-life queue of people waiting in line.\n",
    "\n",
    "### Basic Operations on a Queue:\n",
    "\n",
    "1. **Enqueue**: Adding an element to the end of the queue.\n",
    "2. **Dequeue**: Removing an element from the front of the queue.\n",
    "3. **Peek/Front**: Viewing the front element of the queue without removing it.\n",
    "4. **isEmpty**: Checking if the queue is empty.\n",
    "5. **isFull**: Checking if the queue is full (relevant for fixed-size queues).\n",
    "\n",
    "### Advantages of Queues:\n",
    "\n",
    "1. **Simple Implementation**: Queues are easy to implement and understand.\n",
    "2. **Efficient for FIFO Processes**: Ideal for processes that require servicing in the order they arrive, such as printer tasks or CPU scheduling.\n",
    "3. **Resource Management**: Useful in resource management where tasks must be handled sequentially.\n",
    "\n",
    "### Disadvantages of Queues:\n",
    "\n",
    "1. **Limited Access**: You can only access the front and rear elements; accessing elements in the middle requires dequeuing all elements before it.\n",
    "2. **Fixed Size**: In static arrays, the size of the queue must be predefined, leading to potential inefficiencies if the queue is either too large or too small.\n",
    "\n",
    "### Example of Queue Usage:\n",
    "\n",
    "**CPU Scheduling**: \n",
    "In operating systems, processes are often scheduled using queues. The CPU takes the first process from the queue, executes it, and then moves on to the next one in line.\n",
    "\n",
    "```python\n",
    "\n",
    "```\n"
   ]
  },
  {
   "cell_type": "code",
   "execution_count": null,
   "metadata": {},
   "outputs": [],
   "source": [
    "from collections import deque\n",
    "\n",
    "# Creating a queue\n",
    "queue = deque()\n",
    "\n",
    "# Enqueue operation\n",
    "queue.append('Process1')\n",
    "queue.append('Process2')\n",
    "queue.append('Process3')\n",
    "\n",
    "# Dequeue operation\n",
    "print(queue.popleft())  # Output: Process1\n",
    "\n",
    "# Peek operation\n",
    "print(queue[0])  # Output: Process2\n",
    "\n",
    "# Checking if queue is empty\n",
    "print(len(queue) == 0)  # Output: False"
   ]
  },
  {
   "cell_type": "markdown",
   "metadata": {},
   "source": [
    "\n",
    "### Why Use Queues?\n",
    "\n",
    "1. **Order Preservation**: Queues ensure that tasks or data are processed in the order they arrive.\n",
    "2. **Concurrency Management**: Useful in managing tasks that need to be processed one after another, such as in task scheduling, handling IO buffers, or managing print jobs.\n",
    "3. **Real-World Modeling**: Many real-world scenarios can be modeled using queues, like ticket counters, call centers, and customer service lines.\n",
    "\n",
    "### Types of Queues:\n",
    "\n",
    "1. **Simple Queue (FIFO Queue)**: The most basic form of a queue.\n",
    "2. **Circular Queue**: A more efficient queue where the end of the queue is connected back to the front, forming a circle. This allows the queue to utilize space more effectively.\n",
    "3. **Priority Queue**: Elements are dequeued based on priority rather than the order in which they arrived.\n",
    "4. **Deque (Double-Ended Queue)**: A queue where elements can be added or removed from both ends."
   ]
  },
  {
   "cell_type": "code",
   "execution_count": 1,
   "metadata": {},
   "outputs": [],
   "source": [
    "class Node:\n",
    "    def __init__(self, value) -> None:\n",
    "        self.data = value\n",
    "        self.next = None"
   ]
  },
  {
   "cell_type": "code",
   "execution_count": 58,
   "metadata": {},
   "outputs": [],
   "source": [
    "class Queues:\n",
    "    def __init__(self) -> None:\n",
    "        self.front = None\n",
    "        self.rear = None\n",
    "\n",
    "    def enqueue(self, value):\n",
    "        new_node = Node(value)\n",
    "        if self.rear is None:\n",
    "            self.front = new_node\n",
    "            self.rear = new_node\n",
    "        else:\n",
    "            self.rear.next = new_node\n",
    "            self.rear = new_node\n",
    "\n",
    "    def dequeue(self):\n",
    "        if self.front == None:\n",
    "            return 'Queues is Empty'\n",
    "        else:\n",
    "            self.front =self.front.next\n",
    "\n",
    "        \n",
    "    def traverse(self):\n",
    "        current = self.front\n",
    "        while current:\n",
    "            print(current.data, end=' ')\n",
    "            current = current.next\n",
    "        print()\n",
    "            \n",
    "    def isEmpty(self):\n",
    "        return self.front == None\n",
    "            \n",
    "    def head_peek(self):\n",
    "        if self.isEmpty():\n",
    "            return 'Queues is Empty'\n",
    "        else:\n",
    "            return self.front.data\n",
    "    \n",
    "    def tail_peek(self):\n",
    "        if self.isEmpty():\n",
    "            return 'Queues is Empty'\n",
    "        else:\n",
    "            return self.rear.data\n",
    "        \n",
    "    def size(self):\n",
    "        current = self.front\n",
    "        count = 0\n",
    "        while current:\n",
    "            count += 1\n",
    "            current = current.next\n",
    "        return count"
   ]
  },
  {
   "cell_type": "code",
   "execution_count": 24,
   "metadata": {},
   "outputs": [],
   "source": [
    "Q = Queues()"
   ]
  },
  {
   "cell_type": "code",
   "execution_count": 25,
   "metadata": {},
   "outputs": [
    {
     "data": {
      "text/plain": [
       "True"
      ]
     },
     "execution_count": 25,
     "metadata": {},
     "output_type": "execute_result"
    }
   ],
   "source": [
    "Q.isEmpty()"
   ]
  },
  {
   "cell_type": "code",
   "execution_count": 26,
   "metadata": {},
   "outputs": [
    {
     "data": {
      "text/plain": [
       "'Queues is Empty'"
      ]
     },
     "execution_count": 26,
     "metadata": {},
     "output_type": "execute_result"
    }
   ],
   "source": [
    "Q.head_peek()"
   ]
  },
  {
   "cell_type": "code",
   "execution_count": 27,
   "metadata": {},
   "outputs": [
    {
     "data": {
      "text/plain": [
       "'Queues is Empty'"
      ]
     },
     "execution_count": 27,
     "metadata": {},
     "output_type": "execute_result"
    }
   ],
   "source": [
    "Q.rear_peek()"
   ]
  },
  {
   "cell_type": "code",
   "execution_count": 28,
   "metadata": {},
   "outputs": [
    {
     "data": {
      "text/plain": [
       "0"
      ]
     },
     "execution_count": 28,
     "metadata": {},
     "output_type": "execute_result"
    }
   ],
   "source": [
    "Q.size()"
   ]
  },
  {
   "cell_type": "code",
   "execution_count": 29,
   "metadata": {},
   "outputs": [],
   "source": [
    "q = Queues()"
   ]
  },
  {
   "cell_type": "code",
   "execution_count": 30,
   "metadata": {},
   "outputs": [],
   "source": [
    "q.enqueue(10)\n",
    "q.enqueue(12)\n",
    "q.enqueue(14)\n",
    "q.enqueue(16)\n"
   ]
  },
  {
   "cell_type": "code",
   "execution_count": 31,
   "metadata": {},
   "outputs": [
    {
     "name": "stdout",
     "output_type": "stream",
     "text": [
      "10 12 14 16 \n"
     ]
    }
   ],
   "source": [
    "q.traverse()"
   ]
  },
  {
   "cell_type": "code",
   "execution_count": 32,
   "metadata": {},
   "outputs": [],
   "source": [
    "q.dequeue()"
   ]
  },
  {
   "cell_type": "code",
   "execution_count": 33,
   "metadata": {},
   "outputs": [
    {
     "name": "stdout",
     "output_type": "stream",
     "text": [
      "12 14 16 \n"
     ]
    }
   ],
   "source": [
    "q.traverse()"
   ]
  },
  {
   "cell_type": "code",
   "execution_count": 34,
   "metadata": {},
   "outputs": [
    {
     "data": {
      "text/plain": [
       "12"
      ]
     },
     "execution_count": 34,
     "metadata": {},
     "output_type": "execute_result"
    }
   ],
   "source": [
    "q.head_peek()"
   ]
  },
  {
   "cell_type": "code",
   "execution_count": 35,
   "metadata": {},
   "outputs": [
    {
     "data": {
      "text/plain": [
       "16"
      ]
     },
     "execution_count": 35,
     "metadata": {},
     "output_type": "execute_result"
    }
   ],
   "source": [
    "q.rear_peek()"
   ]
  },
  {
   "cell_type": "code",
   "execution_count": 36,
   "metadata": {},
   "outputs": [
    {
     "data": {
      "text/plain": [
       "3"
      ]
     },
     "execution_count": 36,
     "metadata": {},
     "output_type": "execute_result"
    }
   ],
   "source": [
    "q.size()"
   ]
  },
  {
   "cell_type": "code",
   "execution_count": 37,
   "metadata": {},
   "outputs": [
    {
     "data": {
      "text/plain": [
       "False"
      ]
     },
     "execution_count": 37,
     "metadata": {},
     "output_type": "execute_result"
    }
   ],
   "source": [
    "q.isEmpty()"
   ]
  },
  {
   "cell_type": "markdown",
   "metadata": {},
   "source": [
    "##### Problem"
   ]
  },
  {
   "cell_type": "markdown",
   "metadata": {},
   "source": [
    "### Implement the Queues using Stack:\n",
    "\n",
    "To implement a queue using two stacks, you can simulate the FIFO (First-In-First-Out) behavior of a queue using the LIFO (Last-In-First-Out) behavior of stacks. Here’s how you can implement the basic queue operations (`enqueue` and `dequeue`) using two stacks:\n",
    "\n",
    "#### Two Stacks Implementation\n",
    "\n",
    "Let's name the two stacks `stack1` and `stack2`.\n",
    "\n",
    "1. **Enqueue Operation (Adding an element to the queue):**\n",
    "   - Push the element onto `stack1`.\n",
    "\n",
    "2. **Dequeue Operation (Removing an element from the queue):**\n",
    "   - If `stack2` is empty, pop all elements from `stack1` and push them onto `stack2`.\n",
    "   - Pop the element from `stack2` (this is the front of the queue).\n",
    "  \n",
    "#### Python Implementation"
   ]
  },
  {
   "cell_type": "code",
   "execution_count": 38,
   "metadata": {},
   "outputs": [],
   "source": [
    "class QueueUsingStacks:\n",
    "    def __init__(self):\n",
    "        self.stack1 = []\n",
    "        self.stack2 = []\n",
    "\n",
    "    def enqueue(self, element):\n",
    "        # Push element onto stack1\n",
    "        self.stack1.append(element)\n",
    "        print(f\"Enqueued: {element}\")\n",
    "\n",
    "    def dequeue(self):\n",
    "        # If stack2 is empty, transfer elements from stack1 to stack2\n",
    "        if not self.stack2:\n",
    "            while self.stack1:\n",
    "                self.stack2.append(self.stack1.pop())\n",
    "        # Pop from stack2 (this is the front of the queue)\n",
    "        if self.stack2:\n",
    "            dequeued_element = self.stack2.pop()\n",
    "            print(f\"Dequeued: {dequeued_element}\")\n",
    "            return dequeued_element\n",
    "        else:\n",
    "            print(\"Queue is empty\")\n",
    "            return None\n"
   ]
  },
  {
   "cell_type": "code",
   "execution_count": 39,
   "metadata": {},
   "outputs": [],
   "source": [
    "# Example usage\n",
    "queue = QueueUsingStacks()\n"
   ]
  },
  {
   "cell_type": "code",
   "execution_count": 40,
   "metadata": {},
   "outputs": [
    {
     "name": "stdout",
     "output_type": "stream",
     "text": [
      "Enqueued: 1\n",
      "Enqueued: 2\n",
      "Enqueued: 3\n"
     ]
    }
   ],
   "source": [
    "queue.enqueue(1)\n",
    "queue.enqueue(2)\n",
    "queue.enqueue(3)\n"
   ]
  },
  {
   "cell_type": "code",
   "execution_count": 41,
   "metadata": {},
   "outputs": [
    {
     "name": "stdout",
     "output_type": "stream",
     "text": [
      "Dequeued: 1\n",
      "Dequeued: 2\n"
     ]
    },
    {
     "data": {
      "text/plain": [
       "2"
      ]
     },
     "execution_count": 41,
     "metadata": {},
     "output_type": "execute_result"
    }
   ],
   "source": [
    "queue.dequeue()  # Outputs: Dequeued: 1\n",
    "queue.dequeue()  # Outputs: Dequeued: 2\n"
   ]
  },
  {
   "cell_type": "code",
   "execution_count": 42,
   "metadata": {},
   "outputs": [
    {
     "name": "stdout",
     "output_type": "stream",
     "text": [
      "Enqueued: 4\n"
     ]
    }
   ],
   "source": [
    "queue.enqueue(4)\n"
   ]
  },
  {
   "cell_type": "code",
   "execution_count": 43,
   "metadata": {},
   "outputs": [
    {
     "name": "stdout",
     "output_type": "stream",
     "text": [
      "Dequeued: 3\n",
      "Dequeued: 4\n",
      "Queue is empty\n"
     ]
    }
   ],
   "source": [
    "queue.dequeue()  # Outputs: Dequeued: 3\n",
    "queue.dequeue()  # Outputs: Dequeued: 4\n",
    "queue.dequeue()  # Outputs: Queue is empty"
   ]
  },
  {
   "cell_type": "markdown",
   "metadata": {},
   "source": [
    "#### Explanation\n",
    "- **Enqueue:** We simply push the element to `stack1`. This is an O(1) operation.\n",
    "- **Dequeue:** If `stack2` is empty, we move all elements from `stack1` to `stack2`, reversing the order so that the oldest element ends up on top of `stack2`. Then, we pop from `stack2`, which gives us the front element of the queue. This operation is O(n) in the worst case, but amortized O(1) over multiple operations.\n",
    "\n",
    "This method efficiently handles queue operations using two stacks."
   ]
  }
 ],
 "metadata": {
  "kernelspec": {
   "display_name": "Python 3",
   "language": "python",
   "name": "python3"
  },
  "language_info": {
   "codemirror_mode": {
    "name": "ipython",
    "version": 3
   },
   "file_extension": ".py",
   "mimetype": "text/x-python",
   "name": "python",
   "nbconvert_exporter": "python",
   "pygments_lexer": "ipython3",
   "version": "3.12.4"
  }
 },
 "nbformat": 4,
 "nbformat_minor": 2
}
