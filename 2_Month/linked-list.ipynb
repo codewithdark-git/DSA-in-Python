{
 "cells": [
  {
   "cell_type": "markdown",
   "metadata": {},
   "source": [
    "### Linked List: Theory\n",
    "\n",
    "A **Linked List** is a linear data structure where elements, known as nodes, are stored in a sequence. Each node contains two parts:\n",
    "1. **Data**: The actual value.\n",
    "2. **Pointer/Reference**: A reference to the next node in the sequence.\n",
    "\n",
    "The list starts with a **head** node, and the last node has a null reference, indicating the end of the list.\n",
    "\n",
    "### Types of Linked Lists:\n",
    "1. **Singly Linked List**: Each node points to the next node only.\n",
    "2. **Doubly Linked List**: Each node points to both the next and the previous node.\n",
    "3. **Circular Linked List**: The last node points back to the head, forming a loop.\n",
    "\n",
    "### Advantages of Linked Lists:\n",
    "\n",
    "1. **Dynamic Size**: The size of the linked list can grow or shrink dynamically as elements are added or removed.\n",
    "2. **Efficient Insertion/Deletion**: Adding or removing elements, especially at the beginning or middle, is more efficient compared to arrays, as no shifting is required.\n",
    "3. **Memory Utilization**: Memory is allocated only when a new node is created, reducing wasted space.\n",
    "4. **Time Complexity** Time Complexity for write operation is O(1).\n",
    "\n",
    "### Disadvantages of Linked Lists:\n",
    "\n",
    "1. **Memory Usage**: Each node requires extra memory for storing the pointer/reference, leading to more space consumption compared to arrays.\n",
    "2. **Sequential Access**: Linked lists do not allow random access. You need to traverse the list sequentially to access elements, making operations like searching less efficient.\n",
    "3. **Complexity**: Operations like traversing, inserting, or deleting nodes require careful pointer management, which can be more complex than working with arrays.\n",
    "4.  **Time Complexity**: Time Complexity for read Operation is O(n)\n",
    "\n",
    "### Why Use Linked Lists Over Arrays?\n",
    "\n",
    "1. **Dynamic Size**: Unlike arrays, where the size is fixed, linked lists can grow or shrink dynamically as needed. In arrays, resizing requires creating a new array and copying elements.\n",
    "\n",
    "2. **Efficient Insertions/Deletions**: In arrays, inserting or deleting elements requires shifting subsequent elements, which is costly. In linked lists, you can insert or delete nodes more efficiently by just adjusting pointers.\n",
    "\n",
    "3. **Memory Allocation**: Arrays require contiguous memory allocation, which can be problematic for large datasets. Linked lists do not require contiguous memory, making them more flexible in situations where memory is fragmented.\n"
   ]
  },
  {
   "cell_type": "code",
   "execution_count": 1,
   "metadata": {},
   "outputs": [],
   "source": [
    "# create Node Class\n",
    "\n",
    "class Node:\n",
    "\n",
    "    def __init__(self, value) -> None:\n",
    "        self.data = value\n",
    "        self.next = None"
   ]
  },
  {
   "cell_type": "code",
   "execution_count": 26,
   "metadata": {},
   "outputs": [],
   "source": [
    "a = Node(1)\n",
    "b = Node(2)\n",
    "c = Node(3)"
   ]
  },
  {
   "cell_type": "code",
   "execution_count": 27,
   "metadata": {},
   "outputs": [
    {
     "name": "stdout",
     "output_type": "stream",
     "text": [
      "1\n"
     ]
    }
   ],
   "source": [
    "print(a.data)"
   ]
  },
  {
   "cell_type": "code",
   "execution_count": 28,
   "metadata": {},
   "outputs": [],
   "source": [
    "a.next = b\n",
    "b.next = c"
   ]
  },
  {
   "cell_type": "code",
   "execution_count": 33,
   "metadata": {},
   "outputs": [
    {
     "name": "stdout",
     "output_type": "stream",
     "text": [
      "None\n"
     ]
    }
   ],
   "source": [
    "print(c.next)"
   ]
  },
  {
   "cell_type": "code",
   "execution_count": 4,
   "metadata": {},
   "outputs": [],
   "source": [
    "class Node:\n",
    "\n",
    "    def __init__(self, value) -> None:\n",
    "        self.data = value\n",
    "        self.next = None"
   ]
  },
  {
   "cell_type": "code",
   "execution_count": 31,
   "metadata": {},
   "outputs": [],
   "source": [
    "class LinkedList:\n",
    "\n",
    "    def __init__(self) -> None:\n",
    "        self.head = None\n",
    "        self.n = 0\n",
    "\n",
    "    def __len__(self):\n",
    "        return self.n\n",
    "    \n",
    "    # inserting\n",
    "    def insert_head(self, value):\n",
    "        new_node = Node(value)\n",
    "        new_node.next = self.head\n",
    "        self.head = new_node\n",
    "        self.n += 1\n",
    "\n",
    "    def append(self, value):\n",
    "        new_node = Node(value)\n",
    "        if self.head is None:\n",
    "            self.head = new_node\n",
    "        else:\n",
    "            current = self.head\n",
    "            while current.next!= None:\n",
    "                current = current.next\n",
    "            current.next = new_node\n",
    "        self.n += 1\n",
    "\n",
    "    def insert_after(self,after, value):\n",
    "        new_node = Node(value)\n",
    "        if self.head == None:\n",
    "            return 'Item not found - The LinkedList is empty'\n",
    "        else:\n",
    "            current = self.head\n",
    "            while current.data != after:\n",
    "                current = current.next\n",
    "                if current == None:\n",
    "                    return 'Item not found'\n",
    "            new_node.next = current.next\n",
    "            current.next = new_node\n",
    "            self.n += 1\n",
    "        \n",
    "    #deleting the linked-list\n",
    "    def remove(self, value):\n",
    "        if self.head == None:\n",
    "            return 'Item not found - The LinkedList is empty'\n",
    "        elif self.head.data == value:\n",
    "            return self.delete_head()\n",
    "        else:\n",
    "            current = self.head\n",
    "            while current.next!= None and current.next.data!= value:\n",
    "                current = current.next\n",
    "            if current.next == None:\n",
    "                return 'Item not found'\n",
    "            else:\n",
    "                current.next = current.next.next\n",
    "                self.n -= 1\n",
    "            \n",
    "    def clear(self):\n",
    "        self.head = None\n",
    "        self.n = 0\n",
    "\n",
    "    def delete_head(self):\n",
    "        if self.head == None:\n",
    "            return 'The Linked-List is empty'\n",
    "        else:\n",
    "            self.head = self.head.next\n",
    "            self.n -= 1\n",
    "\n",
    "    def pop(self):\n",
    "        if self.head == None:\n",
    "            return 'The Linked-List is empty'\n",
    "        else:\n",
    "            current = self.head\n",
    "            if current.next == None:\n",
    "                return self.delete_head()\n",
    "            while current.next.next!= None:\n",
    "                current = current.next\n",
    "            current.next = None\n",
    "            self.n -= 1\n",
    "            \n",
    "    #searching in linked-list\n",
    "    def find(self, values):\n",
    "        if self.head == None:\n",
    "            return 'Item not found - The LinkedList is empty'\n",
    "        else:\n",
    "            current = self.head\n",
    "            index = 0\n",
    "            while current.data!= values:\n",
    "                current = current.next\n",
    "                index += 1\n",
    "                if current == None:\n",
    "                    return 'index Out of range'\n",
    "            return index\n",
    "        \n",
    "    def reverse(self):\n",
    "        if self.head == None:\n",
    "            return 'Item not found - The LinkedList is empty'\n",
    "        prev = None\n",
    "        current = self.head\n",
    "        while current is not None:\n",
    "            next_node = current.next\n",
    "            current.next = prev\n",
    "            prev = current\n",
    "            current = next_node\n",
    "        self.head = prev\n",
    "\n",
    "    def replace_max(self, value):\n",
    "        \"\"\"\n",
    "            find the max item in linked list and replace with the user value\n",
    "        \"\"\"\n",
    "        if self.head == None:\n",
    "            return 'Item not found - The LinkedList is empty'\n",
    "        else:\n",
    "            temp = self.head\n",
    "            max = temp\n",
    "\n",
    "            while temp != None:\n",
    "                if temp.data > max.data:\n",
    "                    max = temp\n",
    "                temp = temp.next\n",
    "            max.data = value\n",
    "\n",
    "    def sum_odd_node(self):\n",
    "        \"\"\"\n",
    "            this fun sum all the odd node item\n",
    "        \"\"\"\n",
    "        temp = self.head\n",
    "        counter =0\n",
    "        result = 0\n",
    "\n",
    "        while temp != None:\n",
    "            if counter % 2 != 0:\n",
    "                result = result + temp.data\n",
    "\n",
    "            counter+=1\n",
    "            temp = temp.next\n",
    "\n",
    "        print(result)\n",
    "\n",
    "    def clean_sentence(self):\n",
    "        \"\"\"\n",
    "            Clean Sentence if in sentence * or / than replace this * or / with space\n",
    "            and if in sentence ** or // or */ or /* than replace with space and the next character is convert to upper-Case()\n",
    "            Input:\n",
    "                \" Hello**world/this*is/*python \"\n",
    "            Output:\n",
    "                \" Hello World this is Python \"\n",
    "        \"\"\"\n",
    "        temp = self.head\n",
    "        while temp is not None:\n",
    "            if temp.data == '*' or temp.data == '/':\n",
    "                temp.data = ' '  # Replace '*' and '/' with a space\n",
    "                if temp.next.data == '*' or temp.next.data == '/':\n",
    "                    temp.next.next.data = temp.next.next.data.upper()\n",
    "                    temp.next = temp.next.next\n",
    "            temp = temp.next\n",
    "\n",
    "    def print(self):\n",
    "        result = ''\n",
    "        temp = self.head\n",
    "        while temp:\n",
    "            result += temp.data\n",
    "            temp = temp.next\n",
    "        return result if result else \"Empty List\"\n",
    "\n",
    "\n",
    "    def __getitem__(self, values):\n",
    "        return self.find(values)\n",
    "    \n",
    "    def __str__(self):\n",
    "        current = self.head\n",
    "        result = ''\n",
    "        while current is not None:\n",
    "            result += str(current.data) + '->'\n",
    "            current = current.next\n",
    "        \n",
    "        # Remove the trailing arrow only if the result is not empty\n",
    "        if result:\n",
    "            return result[:-2]  # Removes the last '->'\n",
    "        else:\n",
    "            return \"Empty List\"\n"
   ]
  },
  {
   "cell_type": "code",
   "execution_count": 32,
   "metadata": {},
   "outputs": [],
   "source": [
    "raw_sent = LinkedList()"
   ]
  },
  {
   "cell_type": "code",
   "execution_count": 33,
   "metadata": {},
   "outputs": [],
   "source": [
    "for char in \"Hello**world/this*is/*python\":\n",
    "    raw_sent.append(char)\n",
    "    "
   ]
  },
  {
   "cell_type": "code",
   "execution_count": 34,
   "metadata": {},
   "outputs": [
    {
     "data": {
      "text/plain": [
       "'Hello**world/this*is/*python'"
      ]
     },
     "execution_count": 34,
     "metadata": {},
     "output_type": "execute_result"
    }
   ],
   "source": [
    "raw_sent.print()\n"
   ]
  },
  {
   "cell_type": "code",
   "execution_count": 35,
   "metadata": {},
   "outputs": [],
   "source": [
    "raw_sent.clean_sentence()"
   ]
  },
  {
   "cell_type": "code",
   "execution_count": 36,
   "metadata": {},
   "outputs": [
    {
     "data": {
      "text/plain": [
       "'Hello World this is Python'"
      ]
     },
     "execution_count": 36,
     "metadata": {},
     "output_type": "execute_result"
    }
   ],
   "source": [
    "raw_sent.print()"
   ]
  },
  {
   "cell_type": "code",
   "execution_count": 329,
   "metadata": {},
   "outputs": [],
   "source": [
    "\n",
    "l =  LinkedList()"
   ]
  },
  {
   "cell_type": "code",
   "execution_count": 330,
   "metadata": {},
   "outputs": [],
   "source": [
    "l.insert_head(1)\n",
    "l.insert_head(2)\n",
    "l.insert_head(3)\n",
    "l.insert_head(5)\n"
   ]
  },
  {
   "cell_type": "code",
   "execution_count": 331,
   "metadata": {},
   "outputs": [
    {
     "name": "stdout",
     "output_type": "stream",
     "text": [
      "5->3->2->1\n"
     ]
    }
   ],
   "source": [
    "print(l)\n"
   ]
  },
  {
   "cell_type": "code",
   "execution_count": 267,
   "metadata": {},
   "outputs": [
    {
     "name": "stdout",
     "output_type": "stream",
     "text": [
      "4\n"
     ]
    }
   ],
   "source": [
    "l.sum_odd_node()"
   ]
  },
  {
   "cell_type": "code",
   "execution_count": 261,
   "metadata": {},
   "outputs": [],
   "source": [
    "l.append(12)\n",
    "l.append(23)\n",
    "l.append(1)\n",
    "l.append(3)"
   ]
  },
  {
   "cell_type": "code",
   "execution_count": 263,
   "metadata": {},
   "outputs": [
    {
     "name": "stdout",
     "output_type": "stream",
     "text": [
      "26\n"
     ]
    }
   ],
   "source": [
    "l.sum_odd()"
   ]
  },
  {
   "cell_type": "code",
   "execution_count": 332,
   "metadata": {},
   "outputs": [
    {
     "name": "stdout",
     "output_type": "stream",
     "text": [
      "5->3->2->1\n"
     ]
    }
   ],
   "source": [
    "print(l)"
   ]
  },
  {
   "cell_type": "code",
   "execution_count": 246,
   "metadata": {},
   "outputs": [],
   "source": [
    "l.replace_max(45)"
   ]
  },
  {
   "cell_type": "code",
   "execution_count": 247,
   "metadata": {},
   "outputs": [
    {
     "name": "stdout",
     "output_type": "stream",
     "text": [
      "45->2->1\n"
     ]
    }
   ],
   "source": [
    "print(l)"
   ]
  },
  {
   "cell_type": "code",
   "execution_count": 233,
   "metadata": {},
   "outputs": [],
   "source": [
    "l.remove(1)\n"
   ]
  },
  {
   "cell_type": "code",
   "execution_count": 213,
   "metadata": {},
   "outputs": [
    {
     "name": "stdout",
     "output_type": "stream",
     "text": [
      "3->2->1\n"
     ]
    }
   ],
   "source": [
    "print(l)\n"
   ]
  },
  {
   "cell_type": "code",
   "execution_count": 215,
   "metadata": {},
   "outputs": [],
   "source": [
    "l.reverse()"
   ]
  },
  {
   "cell_type": "code",
   "execution_count": 216,
   "metadata": {},
   "outputs": [
    {
     "name": "stdout",
     "output_type": "stream",
     "text": [
      "1->2->3\n"
     ]
    }
   ],
   "source": [
    "print(l)"
   ]
  },
  {
   "cell_type": "code",
   "execution_count": 164,
   "metadata": {},
   "outputs": [
    {
     "data": {
      "text/plain": [
       "'index Out of range'"
      ]
     },
     "execution_count": 164,
     "metadata": {},
     "output_type": "execute_result"
    }
   ],
   "source": [
    "l[4]"
   ]
  },
  {
   "cell_type": "code",
   "execution_count": 149,
   "metadata": {},
   "outputs": [
    {
     "data": {
      "text/plain": [
       "'Item not found - The LinkedList is empty'"
      ]
     },
     "execution_count": 149,
     "metadata": {},
     "output_type": "execute_result"
    }
   ],
   "source": [
    "l.index(1)"
   ]
  },
  {
   "cell_type": "code",
   "execution_count": 142,
   "metadata": {},
   "outputs": [
    {
     "data": {
      "text/plain": [
       "'Item not found - The LinkedList is empty'"
      ]
     },
     "execution_count": 142,
     "metadata": {},
     "output_type": "execute_result"
    }
   ],
   "source": [
    "l.remove(2)"
   ]
  },
  {
   "cell_type": "code",
   "execution_count": 129,
   "metadata": {},
   "outputs": [],
   "source": [
    "l.pop()"
   ]
  },
  {
   "cell_type": "code",
   "execution_count": 49,
   "metadata": {},
   "outputs": [
    {
     "data": {
      "text/plain": [
       "'The LinkedList is empty'"
      ]
     },
     "execution_count": 49,
     "metadata": {},
     "output_type": "execute_result"
    }
   ],
   "source": [
    "l.delete_head()"
   ]
  },
  {
   "cell_type": "code",
   "execution_count": 37,
   "metadata": {},
   "outputs": [],
   "source": [
    "l.delete_node(2)"
   ]
  },
  {
   "cell_type": "code",
   "execution_count": 33,
   "metadata": {},
   "outputs": [],
   "source": [
    "l.clear()"
   ]
  },
  {
   "cell_type": "code",
   "execution_count": 38,
   "metadata": {},
   "outputs": [
    {
     "name": "stdout",
     "output_type": "stream",
     "text": [
      "3->1\n"
     ]
    }
   ],
   "source": [
    "print(l)"
   ]
  },
  {
   "cell_type": "code",
   "execution_count": 29,
   "metadata": {},
   "outputs": [
    {
     "data": {
      "text/plain": [
       "'Item not found - The LinkedList is empty'"
      ]
     },
     "execution_count": 29,
     "metadata": {},
     "output_type": "execute_result"
    }
   ],
   "source": [
    "l.insert_after(1, 3)"
   ]
  },
  {
   "cell_type": "code",
   "execution_count": 21,
   "metadata": {},
   "outputs": [
    {
     "name": "stdout",
     "output_type": "stream",
     "text": [
      "3\n"
     ]
    }
   ],
   "source": [
    "print(l)"
   ]
  },
  {
   "cell_type": "code",
   "execution_count": 69,
   "metadata": {},
   "outputs": [],
   "source": [
    "l.append(4)\n",
    "l.append(5)\n",
    "l.append(6)"
   ]
  },
  {
   "cell_type": "code",
   "execution_count": 70,
   "metadata": {},
   "outputs": [
    {
     "name": "stdout",
     "output_type": "stream",
     "text": [
      "3->2->1->4->5->6\n"
     ]
    }
   ],
   "source": [
    "print(l)"
   ]
  },
  {
   "cell_type": "code",
   "execution_count": 43,
   "metadata": {},
   "outputs": [
    {
     "data": {
      "text/plain": [
       "3"
      ]
     },
     "execution_count": 43,
     "metadata": {},
     "output_type": "execute_result"
    }
   ],
   "source": [
    "len(l)"
   ]
  },
  {
   "cell_type": "markdown",
   "metadata": {},
   "source": [
    "#### practice"
   ]
  },
  {
   "cell_type": "markdown",
   "metadata": {},
   "source": [
    "##### What is the output of following function when head node of following linked list is passed a input ? <br> 1->2->3->4->5"
   ]
  },
  {
   "cell_type": "code",
   "execution_count": 165,
   "metadata": {},
   "outputs": [],
   "source": [
    "def fun(head):\n",
    "    if head == None:\n",
    "        return\n",
    "    if head.next.next != None:\n",
    "        print(head.data,' ', end='')\n",
    "        fun(head.next)\n",
    "    print(head.data,' ', end='')"
   ]
  },
  {
   "cell_type": "code",
   "execution_count": null,
   "metadata": {},
   "outputs": [],
   "source": []
  }
 ],
 "metadata": {
  "kernelspec": {
   "display_name": "Python 3",
   "language": "python",
   "name": "python3"
  },
  "language_info": {
   "codemirror_mode": {
    "name": "ipython",
    "version": 3
   },
   "file_extension": ".py",
   "mimetype": "text/x-python",
   "name": "python",
   "nbconvert_exporter": "python",
   "pygments_lexer": "ipython3",
   "version": "3.12.4"
  }
 },
 "nbformat": 4,
 "nbformat_minor": 2
}
