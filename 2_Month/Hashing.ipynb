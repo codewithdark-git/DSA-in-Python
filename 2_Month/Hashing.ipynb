{
 "cells": [
  {
   "cell_type": "markdown",
   "metadata": {},
   "source": [
    "### What is Hashing?\n",
    "\n",
    "**Hashing** is a process used in computer science to convert data of arbitrary size (such as strings, numbers, or objects) into a fixed-size value, typically called a hash code or hash value. This hash code uniquely represents the original data and is often an integer. Hashing is widely used in various applications, including data retrieval, cryptography, and data storage.\n",
    "\n",
    "#### How Hashing Works:\n",
    "\n",
    "1. **Hash Function**: A hash function takes input data (keys) and converts it into a fixed-size hash code. For example, a simple hash function might sum the ASCII values of a string's characters and then take the modulus with the size of the hash table to ensure the index is within bounds.\n",
    "\n",
    "2. **Hash Table**: A data structure that stores key-value pairs, where each key is mapped to a specific index in an array using a hash function. The value associated with the key is stored at this index.\n",
    "\n",
    "3. **Collisions**: When two different keys produce the same hash code, a collision occurs. Collisions are managed using techniques like chaining (linked lists at each array index) or open addressing (finding another open spot in the array).\n",
    "\n",
    "#### Handling Collisions:\n",
    "\n",
    "1. **Closed Addressing (Chaining)**:\n",
    "    - **Chaining**: In this method, each index in the hash table's array contains a linked list (or chain) of key-value pairs that have the same hash code. When a collision occurs, the new key-value pair is added to the end of the linked list at that index.\n",
    "    - **Balancing Trees**: Another approach to handling collisions within a bucket is to use balanced trees instead of linked lists. This can improve search time within a bucket from O(n) to O(log n).\n",
    "    - **Rehashing**: When the load factor (number of elements / size of the hash table) exceeds a certain threshold, the hash table is resized to a larger size. This helps distribute the elements more evenly and reduces the likelihood of collisions.\n",
    "\n",
    "2. **Open Addressing**:\n",
    "    - **Linear Probing**: In linear probing, if a collision occurs, the next available slot in the array is checked sequentially until an empty slot is found. Although simple, linear probing can lead to clustering, where a series of collisions occur in close proximity, degrading performance.\n",
    "        - **Function**: `g(i) = [h(key) + i] % size`, where `h(key)` is the hash value, and `i` is a probe number starting from 0 and increasing by 1 each time.\n",
    "    - **Quadratic Probing**: Quadratic probing reduces clustering by checking slots at intervals that are quadratic functions of the original hash value.\n",
    "        - **Function**: `g(i) = [h(key) + i^2] % size`, where `h(key)` is the hash value, and `i^2` is the square of the probe number.\n",
    "\n",
    "#### Advantages of Hashing:\n",
    "\n",
    "1. **Fast Data Access**: Hashing provides average-case **O(1)** time complexity for searching, inserting, and deleting data, making it extremely fast for data retrieval.\n",
    "2. **Efficient Use of Space**: Hash tables can store large amounts of data compactly, with minimal wasted space.\n",
    "3. **Flexibility**: Hashing can handle various data types and is adaptable to different use cases, such as databases, caching, and password storage.\n",
    "\n",
    "#### Disadvantages of Hashing:\n",
    "\n",
    "1. **Collisions**: Collisions are inevitable, and managing them can add complexity to the hash table implementation.\n",
    "2. **Inefficiency with Poor Hash Functions**: A poorly designed hash function can result in too many collisions, reducing the efficiency of the hash table.\n",
    "3. **Memory Overhead**: Hash tables require extra memory for pointers or links, especially when using collision resolution techniques like chaining.\n",
    "4. **Not Ordered**: Hash tables do not maintain any order among the keys, so if ordered data is required, a different data structure may be more suitable.\n"
   ]
  },
  {
   "cell_type": "markdown",
   "metadata": {},
   "source": [
    "#### Example of Hashing:\n",
    "\n",
    "A simple example of a hash table in Python can be illustrated using a dictionary, which is a built-in implementation of a hash table.\n"
   ]
  },
  {
   "cell_type": "code",
   "execution_count": null,
   "metadata": {},
   "outputs": [],
   "source": [
    "# Creating a hash table using Python's dictionary\n",
    "hash_table = {}\n",
    "\n",
    "# Inserting key-value pairs\n",
    "hash_table['apple'] = 5\n",
    "hash_table['banana'] = 3\n",
    "hash_table['cherry'] = 8\n",
    "\n",
    "# Accessing values by keys\n",
    "print(hash_table['apple'])  # Output: 5\n",
    "\n",
    "# Checking if a key exists\n",
    "print('banana' in hash_table)  # Output: True\n",
    "\n",
    "# Deleting a key-value pair\n",
    "del hash_table['cherry']\n",
    "\n",
    "# Example of a hash function (not real, just illustrative)\n",
    "def simple_hash(key, table_size):\n",
    "    return sum(ord(char) for char in key) % table_size\n",
    "\n",
    "# Using the hash function\n",
    "index = simple_hash('apple', 10)\n",
    "print(index)  # This gives the index in the hash table"
   ]
  },
  {
   "cell_type": "markdown",
   "metadata": {},
   "source": [
    "\n",
    "#### More About Hashing:\n",
    "\n",
    "1. **Cryptographic Hashing**: Hash functions like SHA-256 or MD5 are used in cryptography to ensure data integrity, secure password storage, and digital signatures. These functions have the property that even a tiny change in input data will result in a drastically different hash value.\n",
    "\n",
    "2. **Perfect Hashing**: In some cases, a hash function can be designed so that no collisions occur, which is known as perfect hashing. This is typically used in scenarios where the set of keys is known in advance.\n",
    "\n",
    "3. **Load Factor**: In a hash table, the load factor is the ratio of the number of elements to the size of the hash table. A high load factor can lead to more collisions, while a low load factor might waste space.\n",
    "\n",
    "4. **Resizing and Rehashing**: When a hash table becomes too full (high load factor), it might need to be resized, which involves creating a larger table and rehashing all the existing keys into the new table.\n",
    "\n",
    "5. **Applications of Hashing**: \n",
    "   - **Databases**: Hashing is used to index data for fast retrieval.\n",
    "   - **Caching**: Hashing is used in caching mechanisms, such as in-memory caches, to quickly look up data.\n",
    "   - **File Systems**: Some file systems use hashing to organize data blocks.\n",
    "   - **Load Balancing**: Hashing algorithms distribute tasks or requests evenly across servers.\n",
    "\n",
    "#### Conclusion:\n",
    "\n",
    "Hashing is a powerful technique used to speed up data retrieval and manage large datasets efficiently. By understanding how hashing works, its benefits, and its limitations, you can effectively apply it to solve various computational problems."
   ]
  },
  {
   "cell_type": "markdown",
   "metadata": {},
   "source": [
    "##### Own Dictionary for Hashing <br> with linear probing"
   ]
  },
  {
   "cell_type": "code",
   "execution_count": 307,
   "metadata": {},
   "outputs": [],
   "source": [
    "class Dictionary:\n",
    "    def __init__(self, size) -> None:\n",
    "        self.size = size\n",
    "        self.slots = [None]* self.size\n",
    "        self.data = [None]* self.size\n",
    "\n",
    "    def put(self, key, value):\n",
    "        hash_key = self.hash_function(key)\n",
    "        if self.slots[hash_key] is None:\n",
    "            self.slots[hash_key] = key\n",
    "            self.data[hash_key] = value\n",
    "        else:\n",
    "            if self.slots[hash_key] == key:\n",
    "                self.data[hash_key] = value\n",
    "            else:\n",
    "                next_slot = self.rehash(hash_key)\n",
    "                while self.slots[next_slot] != None and self.slots[next_slot] != key:\n",
    "                    if self.size == next_slot + 1:\n",
    "                        raise Exception('Hash table is full')\n",
    "                        next_slot = 0\n",
    "                    next_slot = self.rehash(next_slot)\n",
    "\n",
    "                if self.slots[next_slot] == None:\n",
    "                    self.slots[next_slot] = key\n",
    "                    self.data[next_slot] = value\n",
    "                else:\n",
    "                    self.data[next_slot] = value\n",
    "\n",
    "    def __setitem__(self, key, value):\n",
    "        self.put(key, value)\n",
    "\n",
    "    def get(self, key):\n",
    "        start_pos = self.hash_function(key)\n",
    "        curr_pos = start_pos\n",
    "        \n",
    "        while self.slots[curr_pos] is not None:\n",
    "            if self.slots[curr_pos] == key:\n",
    "                return self.data[curr_pos]\n",
    "            \n",
    "            # Rehash to find the next position\n",
    "            curr_pos = self.rehash(curr_pos)\n",
    "            \n",
    "            # If we have looped back to the start position, key is not found\n",
    "            if curr_pos == start_pos:\n",
    "                return 'Item not found'\n",
    "        \n",
    "        # If we exit the loop, it means the key is not in the table\n",
    "        return 'Item not Found in Table'\n",
    "    \n",
    "    def __getitem__(self, key):\n",
    "        return self.get(key)\n",
    "\n",
    "    def __str__(self):\n",
    "        for i in range(len(self.slots)):\n",
    "            if self.slots[i] is not None:\n",
    "                print(self.slots[i], ':' ,self.data[i], end=' ')\n",
    "        \n",
    "        return \"\"\n",
    "\n",
    "    def print_as_dic(self) -> str:\n",
    "        for i in range(len(self.slots)):\n",
    "            if self.slots[i] is not None:\n",
    "                return dict(zip(self.slots, self.data))\n",
    "        else:\n",
    "            return 'Table is empty'\n",
    "        \n",
    "            \n",
    "    def size_(self):\n",
    "        return self.size\n",
    "\n",
    "    def rehash(self, old_hash):\n",
    "        return (old_hash + 1) % self.size\n",
    "\n",
    "    def hash_function(self, key):\n",
    "        return abs(hash(key)) % self.size"
   ]
  },
  {
   "cell_type": "code",
   "execution_count": 308,
   "metadata": {},
   "outputs": [],
   "source": [
    "D1 = Dictionary(4)"
   ]
  },
  {
   "cell_type": "code",
   "execution_count": 219,
   "metadata": {},
   "outputs": [
    {
     "data": {
      "text/plain": [
       "4"
      ]
     },
     "execution_count": 219,
     "metadata": {},
     "output_type": "execute_result"
    }
   ],
   "source": [
    "D1.size_()"
   ]
  },
  {
   "cell_type": "code",
   "execution_count": 282,
   "metadata": {},
   "outputs": [
    {
     "data": {
      "text/plain": [
       "{'c': 20, 'python': 100, 'java': 200, 'c++': 300}"
      ]
     },
     "execution_count": 282,
     "metadata": {},
     "output_type": "execute_result"
    }
   ],
   "source": [
    "D1.print_as_dic()\n"
   ]
  },
  {
   "cell_type": "code",
   "execution_count": 311,
   "metadata": {},
   "outputs": [
    {
     "name": "stdout",
     "output_type": "stream",
     "text": [
      "c : 20 python : 100 java : 200 c++ : 300 \n"
     ]
    }
   ],
   "source": [
    "print(D1)"
   ]
  },
  {
   "cell_type": "code",
   "execution_count": 211,
   "metadata": {},
   "outputs": [
    {
     "name": "stdout",
     "output_type": "stream",
     "text": [
      "['c', 'python', 'java', 'c++']\n",
      "[20, 100, 200, 300]\n"
     ]
    }
   ],
   "source": [
    "print(D1.slots)\n",
    "print(D1.data)"
   ]
  },
  {
   "cell_type": "code",
   "execution_count": 310,
   "metadata": {},
   "outputs": [],
   "source": [
    "D1['c'] = 20\n",
    "D1['python'] = 100\n",
    "D1['java'] = 200\n",
    "D1['c++'] = 300"
   ]
  },
  {
   "cell_type": "code",
   "execution_count": 160,
   "metadata": {},
   "outputs": [
    {
     "data": {
      "text/plain": [
       "'Item not found'"
      ]
     },
     "execution_count": 160,
     "metadata": {},
     "output_type": "execute_result"
    }
   ],
   "source": [
    "D1.get('C++')"
   ]
  },
  {
   "cell_type": "code",
   "execution_count": 161,
   "metadata": {},
   "outputs": [
    {
     "data": {
      "text/plain": [
       "300"
      ]
     },
     "execution_count": 161,
     "metadata": {},
     "output_type": "execute_result"
    }
   ],
   "source": [
    "D1['c++']"
   ]
  },
  {
   "cell_type": "code",
   "execution_count": 162,
   "metadata": {},
   "outputs": [
    {
     "data": {
      "text/plain": [
       "100"
      ]
     },
     "execution_count": 162,
     "metadata": {},
     "output_type": "execute_result"
    }
   ],
   "source": [
    "D1['python']"
   ]
  },
  {
   "cell_type": "code",
   "execution_count": 312,
   "metadata": {},
   "outputs": [
    {
     "name": "stdout",
     "output_type": "stream",
     "text": [
      "c : 20 python : 100 java : 200 c++ : 300 \n"
     ]
    }
   ],
   "source": [
    "print(D1)"
   ]
  },
  {
   "cell_type": "code",
   "execution_count": null,
   "metadata": {},
   "outputs": [],
   "source": []
  }
 ],
 "metadata": {
  "kernelspec": {
   "display_name": "Python 3",
   "language": "python",
   "name": "python3"
  },
  "language_info": {
   "codemirror_mode": {
    "name": "ipython",
    "version": 3
   },
   "file_extension": ".py",
   "mimetype": "text/x-python",
   "name": "python",
   "nbconvert_exporter": "python",
   "pygments_lexer": "ipython3",
   "version": "3.12.4"
  }
 },
 "nbformat": 4,
 "nbformat_minor": 2
}
