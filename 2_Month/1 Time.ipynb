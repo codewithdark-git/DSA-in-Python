{
 "cells": [
  {
   "cell_type": "markdown",
   "metadata": {},
   "source": [
    "##### Data structure and Algorithms Day 1 <br> Time Complexity: O(n)\n"
   ]
  },
  {
   "cell_type": "markdown",
   "metadata": {},
   "source": [
    "##### Techniques <br>\n",
    "1- *Measuring `time` to execute*<br>\n",
    "2- *`Counting` operations involved*<br>\n",
    "3- *Abstract notion of `order of growth`*"
   ]
  },
  {
   "cell_type": "markdown",
   "metadata": {},
   "source": [
    "##### 1- *Measuring `time` to execute*"
   ]
  },
  {
   "cell_type": "code",
   "execution_count": 4,
   "metadata": {},
   "outputs": [
    {
     "name": "stdout",
     "output_type": "stream",
     "text": [
      "1\n",
      "2\n",
      "3\n",
      "4\n",
      "5\n",
      "6\n",
      "7\n",
      "8\n",
      "9\n",
      "10\n",
      "11\n",
      "12\n",
      "13\n",
      "14\n",
      "15\n",
      "16\n",
      "17\n",
      "18\n",
      "19\n",
      "20\n",
      "21\n",
      "22\n",
      "23\n",
      "24\n",
      "25\n",
      "26\n",
      "27\n",
      "28\n",
      "29\n",
      "30\n",
      "31\n",
      "32\n",
      "33\n",
      "34\n",
      "35\n",
      "36\n",
      "37\n",
      "38\n",
      "39\n",
      "40\n",
      "41\n",
      "42\n",
      "43\n",
      "44\n",
      "45\n",
      "46\n",
      "47\n",
      "48\n",
      "49\n",
      "50\n",
      "51\n",
      "52\n",
      "53\n",
      "54\n",
      "55\n",
      "56\n",
      "57\n",
      "58\n",
      "59\n",
      "60\n",
      "61\n",
      "62\n",
      "63\n",
      "64\n",
      "65\n",
      "66\n",
      "67\n",
      "68\n",
      "69\n",
      "70\n",
      "71\n",
      "72\n",
      "73\n",
      "74\n",
      "75\n",
      "76\n",
      "77\n",
      "78\n",
      "79\n",
      "80\n",
      "81\n",
      "82\n",
      "83\n",
      "84\n",
      "85\n",
      "86\n",
      "87\n",
      "88\n",
      "89\n",
      "90\n",
      "91\n",
      "92\n",
      "93\n",
      "94\n",
      "95\n",
      "96\n",
      "97\n",
      "98\n",
      "99\n",
      "100\n",
      "0.0027391910552978516\n"
     ]
    }
   ],
   "source": [
    "import time\n",
    "\n",
    "# Start timer\n",
    "\n",
    "start_time = time.time()\n",
    "\n",
    "for i in range(1, 101):\n",
    "    print(i)\n",
    "\n",
    "# Stop timer\n",
    "print(time.time()- start_time)"
   ]
  },
  {
   "cell_type": "code",
   "execution_count": 6,
   "metadata": {},
   "outputs": [
    {
     "name": "stdout",
     "output_type": "stream",
     "text": [
      "1\n",
      "2\n",
      "3\n",
      "4\n",
      "5\n",
      "6\n",
      "7\n",
      "8\n",
      "9\n",
      "10\n",
      "11\n",
      "12\n",
      "13\n",
      "14\n",
      "15\n",
      "16\n",
      "17\n",
      "18\n",
      "19\n",
      "20\n",
      "21\n",
      "22\n",
      "23\n",
      "24\n",
      "25\n",
      "26\n",
      "27\n",
      "28\n",
      "29\n",
      "30\n",
      "31\n",
      "32\n",
      "33\n",
      "34\n",
      "35\n",
      "36\n",
      "37\n",
      "38\n",
      "39\n",
      "40\n",
      "41\n",
      "42\n",
      "43\n",
      "44\n",
      "45\n",
      "46\n",
      "47\n",
      "48\n",
      "49\n",
      "50\n",
      "51\n",
      "52\n",
      "53\n",
      "54\n",
      "55\n",
      "56\n",
      "57\n",
      "58\n",
      "59\n",
      "60\n",
      "61\n",
      "62\n",
      "63\n",
      "64\n",
      "65\n",
      "66\n",
      "67\n",
      "68\n",
      "69\n",
      "70\n",
      "71\n",
      "72\n",
      "73\n",
      "74\n",
      "75\n",
      "76\n",
      "77\n",
      "78\n",
      "79\n",
      "80\n",
      "81\n",
      "82\n",
      "83\n",
      "84\n",
      "85\n",
      "86\n",
      "87\n",
      "88\n",
      "89\n",
      "90\n",
      "91\n",
      "92\n",
      "93\n",
      "94\n",
      "95\n",
      "96\n",
      "97\n",
      "98\n",
      "99\n",
      "100\n",
      "CPU times: total: 15.6 ms\n",
      "Wall time: 1.74 ms\n"
     ]
    }
   ],
   "source": [
    "%%time\n",
    "i = 1\n",
    "while i < 101:\n",
    "    print(i)\n",
    "    i += 1\n"
   ]
  },
  {
   "cell_type": "code",
   "execution_count": 5,
   "metadata": {},
   "outputs": [
    {
     "name": "stdout",
     "output_type": "stream",
     "text": [
      "1\n",
      "2\n",
      "3\n",
      "4\n",
      "5\n",
      "6\n",
      "7\n",
      "8\n",
      "9\n",
      "10\n",
      "11\n",
      "12\n",
      "13\n",
      "14\n",
      "15\n",
      "16\n",
      "17\n",
      "18\n",
      "19\n",
      "20\n",
      "21\n",
      "22\n",
      "23\n",
      "24\n",
      "25\n",
      "26\n",
      "27\n",
      "28\n",
      "29\n",
      "30\n",
      "31\n",
      "32\n",
      "33\n",
      "34\n",
      "35\n",
      "36\n",
      "37\n",
      "38\n",
      "39\n",
      "40\n",
      "41\n",
      "42\n",
      "43\n",
      "44\n",
      "45\n",
      "46\n",
      "47\n",
      "48\n",
      "49\n",
      "50\n",
      "51\n",
      "52\n",
      "53\n",
      "54\n",
      "55\n",
      "56\n",
      "57\n",
      "58\n",
      "59\n",
      "60\n",
      "61\n",
      "62\n",
      "63\n",
      "64\n",
      "65\n",
      "66\n",
      "67\n",
      "68\n",
      "69\n",
      "70\n",
      "71\n",
      "72\n",
      "73\n",
      "74\n",
      "75\n",
      "76\n",
      "77\n",
      "78\n",
      "79\n",
      "80\n",
      "81\n",
      "82\n",
      "83\n",
      "84\n",
      "85\n",
      "86\n",
      "87\n",
      "88\n",
      "89\n",
      "90\n",
      "91\n",
      "92\n",
      "93\n",
      "94\n",
      "95\n",
      "96\n",
      "97\n",
      "98\n",
      "99\n",
      "100\n",
      "0.004125833511352539\n"
     ]
    }
   ],
   "source": [
    "import time\n",
    "\n",
    "start_time = time.time()\n",
    "i = 1\n",
    "while i < 101:\n",
    "    print(i)\n",
    "    i += 1\n",
    "\n",
    "print(time.time()- start_time)"
   ]
  },
  {
   "cell_type": "code",
   "execution_count": null,
   "metadata": {},
   "outputs": [],
   "source": [
    "%%time\n",
    "\n",
    "list_ = [x for x in range(1, 100001)]\n",
    "\n",
    "for i in list_:\n",
    "    print(i)\n"
   ]
  },
  {
   "cell_type": "code",
   "execution_count": null,
   "metadata": {},
   "outputs": [],
   "source": [
    "%%time\n",
    "for x in range(1, 101):\n",
    "    print(x)\n",
    "    print(f\"\"\"\n",
    "    {np.sqrt(x)}\n",
    "    {np.sin(x)}\n",
    "    {np.cos(x)}\n",
    "    {np.tan(x)}\n",
    "    {np.log(x)}\"\"\")\n"
   ]
  },
  {
   "cell_type": "markdown",
   "metadata": {},
   "source": [
    "##### Problems with above approach <br>\n",
    "\n",
    "1- *✅ Different Time For different algorithm*<br>\n",
    "2- *❌ Time varies if implementation changes*<br>\n",
    "3- *❌ Different machine different time*<br>\n",
    "4- *❌ Does not work for extremely small input*<br>\n",
    "5- *❌ Time varies for different inputs, but can't establish a relationship*\n"
   ]
  },
  {
   "cell_type": "markdown",
   "metadata": {},
   "source": [
    "##### 2- Counting Operations<br>\n",
    "assume these steps take Constant time:\n",
    "\n",
    "1. mathematical operations\n",
    "2. comparisons\n",
    "3. assignments\n",
    "4. accessing objects in memory\n",
    "\n",
    "Then count the number of operations executed as function of input size"
   ]
  },
  {
   "cell_type": "markdown",
   "metadata": {},
   "source": [
    "##### Problems with the counting approach <br>\n",
    "\n",
    "1- *✅ Different Time For different algorithm*<br>\n",
    "2- *❌ Time varies if implementation changes*<br>\n",
    "3- *✅ Different machine different time*<br>\n",
    "4- *❌ Does not work for extremely small input*<br>\n",
    "5- *✅ Time varies for different inputs, but can't establish a relationship*\n"
   ]
  },
  {
   "cell_type": "code",
   "execution_count": null,
   "metadata": {},
   "outputs": [],
   "source": [
    "def num(x):\n",
    "    return x**2 # here is the one operation in this function that is `x**2`"
   ]
  },
  {
   "cell_type": "code",
   "execution_count": null,
   "metadata": {},
   "outputs": [],
   "source": [
    "def sum(x):\n",
    "    \"\"\"\n",
    "    In the above example, the number of operations is:\n",
    "    - One operation (initializing `result` to 0)\n",
    "    - Two operations (running a loop `for i in range(x):`)\n",
    "    - Three operations (running an operation inside the loop `result *= i`)\n",
    "    So, the total number of operations is 3.\n",
    "    The time complexity of this function is O(x), where x is the input number.\n",
    "    Note: In the loop runs x times, and each iteration performs three operations.\n",
    "    e.g: sum --> 1 + 3x operations where x is the input number.\n",
    "    \"\"\"\n",
    "    \n",
    "    result = 0 # here is the one operation in this function that is `result = 0`\n",
    "    for i in range(x): # this is the second operation in this function that is `for i in range(x):`\n",
    "        result *= i # this is the third operation in this function that is `result *= i`\n",
    "    return result\n",
    "\n"
   ]
  },
  {
   "cell_type": "markdown",
   "metadata": {},
   "source": [
    "##### What do we want<br>\n",
    "\n",
    "1- *We want to evaluate the algorithm*<br>\n",
    "2- *we want to evaluate scalability*<br>\n",
    "3- *we want to evaluate in terms of input size*<br>"
   ]
  },
  {
   "cell_type": "markdown",
   "metadata": {},
   "source": [
    "##### 3- Abstract Notion of Order of Growth<br>\n",
    "##### Goals:\n",
    "- want to evaluate program's efficiency when `input is very big`\n",
    "- want to express the `growth of program's run time` as input size grows\n",
    "- want to put an `upper bound` on growth as tight as possible\n",
    "- do not need to be precise: `order of` not `exact` growth\n",
    "- we will look at `largest factors` in run time (which section of the program will take the longest to run)\n",
    "\n",
    "Thus, generally we want tight upper bound on growth, as function os size of input, in worst case\n",
    "\n",
    "\n"
   ]
  },
  {
   "cell_type": "markdown",
   "metadata": {},
   "source": [
    "##### Big O Notation<br>\n",
    "1. **What is Time Complexity?**\n",
    "   - Time complexity measures how the time taken by an algorithm changes as the size of the input grows. It helps us understand how efficiently an algorithm performs.\n",
    "\n",
    "2. **Big O Notation**\n",
    "   - Big O notation is a way to express time complexity. It tells us the maximum time an algorithm will take in terms of the size of the input.\n",
    "\n",
    "3. **How to Use Big O Notation:**\n",
    "   - **Find the Key Operation**: Identify the operation that is repeated the most, like comparisons in sorting algorithms.\n",
    "   - **Count the Operations**: Figure out how the number of operations grows with the input size. For example, if you have to compare each item in a list with every other item, the number of comparisons grows quickly with the list size.\n",
    "   - **Simplify**: Big O notation focuses on the most important part of the time complexity. For example, if an algorithm takes \\(3n^2 + 2n\\) steps, we only care about the term that grows fastest as \\(n\\) gets large, which is \\(n^2\\). So, we write it as \\(O(n^2)\\).\n",
    "\n",
    "4. **Common Time Complexities:**\n",
    "   - **O(1)**: Constant time. The algorithm takes the same amount of time regardless of the input size. Example: accessing a specific element in an array.\n",
    "   - **O(n)**: Linear time. The time grows linearly with the input size. Example: looping through a list.\n",
    "   - **O(n^2)**: Quadratic time. The time grows quadratically with the input size. Example: nested loops, like comparing every pair in a list.\n",
    "\n",
    "5. **Why Simplify?**\n",
    "   - Simplifying helps us focus on the part of the algorithm that will have the biggest impact on performance as the input size gets larger. Lower-order terms and constants are less important for large inputs.\n",
    "\n",
    "6. **Basic Example:**\n",
    "   - **Example 1**: If an algorithm has to look at each item in a list once, it’s \\(O(n)\\) because the time increases linearly with the list size.\n",
    "   - **Example 2**: If an algorithm has two nested loops, each going through the list, it’s \\(O(n^2)\\) because the time increases quadratically with the list size.\n"
   ]
  },
  {
   "cell_type": "markdown",
   "metadata": {},
   "source": [
    "##### Types of orders of Growth<br>\n",
    "\n",
    "\n",
    "1. **Constant Order (`O(1)`)**: The algorithm's runtime is the same regardless of input size; it takes a constant amount of time.<br>\n",
    "e.g: Fetching the item from array using indexing\n",
    "\n",
    "2. **Linear Order (`O(n)`)**: The algorithm's runtime grows directly in proportion to the input size; if the input doubles, the time taken also doubles.<br>\n",
    "e.g: Linear-search algorithm\n",
    "\n",
    "3. **Quadratic Order (`O(n^2)`)**: The algorithm's runtime grows proportionally to the square of the input size; if the input size doubles, the time taken increases fourfold.\n",
    "e.g: Nested loop\n",
    "\n",
    "4. **Exponential Order (`O(2^n)`)**: The algorithm's runtime grows exponentially with the input size; doubling the input size results in an exponentially larger runtime.\n",
    "e.g: dangerous\n",
    "\n",
    "5. **Logarithmic Order (`O(log n)`)**: The algorithm's runtime grows logarithmically with the input size; it increases very slowly as the input size grows.\n",
    "e.g: Binary search algorithm\n",
    "\n",
    "1. **n log n (`O(n log n)`)**: The algorithm's runtime grows in proportion to the input size times the logarithm of the input size; it's faster than quadratic time but slower than linear time.\n",
    "e.g: sorting algorithm\n"
   ]
  },
  {
   "cell_type": "markdown",
   "metadata": {},
   "source": [
    "##### Problem 1"
   ]
  },
  {
   "cell_type": "code",
   "execution_count": null,
   "metadata": {},
   "outputs": [],
   "source": [
    "l = [1, 2, 3, 4, 5]\n",
    "\"\"\"\n",
    "    The time complexity if this program is linear which is O(n)\n",
    "    Mean that when size is increase than time will be increase \n",
    "\"\"\"\n",
    "\n",
    "sum = 0\n",
    "for i in l:\n",
    "    sum = sum + i\n",
    "    \n",
    "print(sum)\n",
    "\n",
    "product = 1\n",
    "for i in l:\n",
    "    product = product * i\n",
    "\n",
    "print(product)"
   ]
  },
  {
   "cell_type": "markdown",
   "metadata": {},
   "source": [
    "##### Problem 2"
   ]
  },
  {
   "cell_type": "code",
   "execution_count": null,
   "metadata": {},
   "outputs": [],
   "source": [
    "l = [1,2,3,4,5]\n",
    "\"\"\"\n",
    "    The Time Complexity of this program is Quadratic which is O(n^2)\n",
    "    Mean that when size of input is increase than the time increase the double of input \n",
    "    e.g: if the input 4 the time is 8 ...\n",
    "\"\"\"\n",
    "\n",
    "for i in l:\n",
    "    for j in l:\n",
    "        print('({},{})'.format(i,j))"
   ]
  },
  {
   "cell_type": "code",
   "execution_count": 14,
   "metadata": {},
   "outputs": [],
   "source": [
    "def int_to_str(i):\n",
    "    \"\"\"\n",
    "        Converts an integer to a string.\n",
    "        The time complexity of this function is log O(n log n)\n",
    "        Mean that even if the input is increase by multiply then time increase by adding\n",
    "        e.g: if the input 2 the time is 1 , input is 4 the time is 2 , input 8 the time is 3 ....\n",
    "        \"\"\"\n",
    "    digits = '0123456789'\n",
    "    if i == 0:\n",
    "        return '0'\n",
    "    result = ''\n",
    "    while i > 0:\n",
    "        result = digits[i%10] + result\n",
    "        i =i //10\n",
    "    return result"
   ]
  },
  {
   "cell_type": "code",
   "execution_count": 16,
   "metadata": {},
   "outputs": [
    {
     "data": {
      "text/plain": [
       "'23432'"
      ]
     },
     "execution_count": 16,
     "metadata": {},
     "output_type": "execute_result"
    }
   ],
   "source": [
    "int_to_str(23432)"
   ]
  },
  {
   "cell_type": "code",
   "execution_count": null,
   "metadata": {},
   "outputs": [],
   "source": [
    "l = [1, 2, 3, 4, 5]\n",
    "\n",
    "\"\"\"\n",
    "quadratic O(n^2)\n",
    "\"\"\"\n",
    "\n",
    "for i in range(0, len(l)):\n",
    "    for j in range(i+1, len(l)):\n",
    "        print('({},{})'.format(l[i], l[j]))"
   ]
  },
  {
   "cell_type": "code",
   "execution_count": null,
   "metadata": {},
   "outputs": [],
   "source": [
    "A = [1,2,3,4]\n",
    "B = [2, 3, 4, 5,6]\n",
    "\n",
    "\"\"\" \n",
    "    CORRECT quadratic O(n^2) BUT -->\n",
    "    MOST CORRECT IS O(ab)\n",
    "\"\"\"\n",
    "\n",
    "for i in A:\n",
    "    for j in B:\n",
    "        if i < j:\n",
    "            print('({}, {})'.format(i, j))"
   ]
  },
  {
   "cell_type": "code",
   "execution_count": null,
   "metadata": {},
   "outputs": [],
   "source": [
    "A = [1,2,3,4]\n",
    "B = [2,3,4,5]\n",
    "\n",
    "\"\"\" \n",
    "    CORRECT quadratic O(n^2)\n",
    "\"\"\"\n",
    "\n",
    "for i in A:\n",
    "    for j in B:\n",
    "        for k in range(100000):\n",
    "            print('({}, {})'.format(i, j))"
   ]
  },
  {
   "cell_type": "code",
   "execution_count": 19,
   "metadata": {},
   "outputs": [
    {
     "name": "stdout",
     "output_type": "stream",
     "text": [
      "[5, 4, 3, 2, 1]\n"
     ]
    }
   ],
   "source": [
    "l = [1,2,3,4,5]\n",
    "\n",
    "\"\"\" \n",
    "    constant O(1)\n",
    "\"\"\"\n",
    "\n",
    "for i in range(0, len(l)//2):\n",
    "    other = len(l) -i - 1\n",
    "    temp = l[i]\n",
    "    l[i] = l[other]\n",
    "    l[other] = temp\n",
    "\n",
    "print(l)"
   ]
  },
  {
   "cell_type": "code",
   "execution_count": null,
   "metadata": {},
   "outputs": [],
   "source": [
    "def factorial(n):\n",
    "    \"\"\"\n",
    "        Calculates the factorial of a number.\n",
    "        The time complexity of this function is linear O(n)\n",
    "        e.g: if the input 2 the time is 2 , input is 4 the time is 4 , input 8 the time is 8 ....\n",
    "        \"\"\"\n",
    "    if n == 0:\n",
    "        return 1\n",
    "    else:\n",
    "        return n * factorial(n-1)"
   ]
  },
  {
   "cell_type": "code",
   "execution_count": 30,
   "metadata": {},
   "outputs": [],
   "source": [
    "def fibonacci(n):\n",
    "    \"\"\"\n",
    "    Exponential O(2^n) \n",
    "    the exponential is actual values 1.7^n , \n",
    "    <2^n\n",
    "    \"\"\"\n",
    "    if n==1 or n==0:\n",
    "        return 1\n",
    "    else:\n",
    "        return fibonacci(n-1) + fibonacci(n-2)\n"
   ]
  },
  {
   "cell_type": "code",
   "execution_count": 34,
   "metadata": {},
   "outputs": [
    {
     "data": {
      "text/plain": [
       "1"
      ]
     },
     "execution_count": 34,
     "metadata": {},
     "output_type": "execute_result"
    }
   ],
   "source": [
    "fibonacci(0)"
   ]
  },
  {
   "cell_type": "code",
   "execution_count": 35,
   "metadata": {},
   "outputs": [],
   "source": [
    "def power(num):\n",
    "    \"\"\"\n",
    "       log O(n log n) \n",
    "    \"\"\"\n",
    "    if num < 1:\n",
    "        return 0\n",
    "    elif num == 1:\n",
    "        return 1\n",
    "    else:\n",
    "        prev = power(num//2)\n",
    "        curr = prev * 2\n",
    "        print(curr)\n",
    "        return curr"
   ]
  },
  {
   "cell_type": "code",
   "execution_count": 41,
   "metadata": {},
   "outputs": [
    {
     "name": "stdout",
     "output_type": "stream",
     "text": [
      "2\n",
      "4\n",
      "8\n",
      "16\n"
     ]
    },
    {
     "data": {
      "text/plain": [
       "16"
      ]
     },
     "execution_count": 41,
     "metadata": {},
     "output_type": "execute_result"
    }
   ],
   "source": [
    "power(20)"
   ]
  },
  {
   "cell_type": "code",
   "execution_count": 44,
   "metadata": {},
   "outputs": [],
   "source": [
    "def mod(a, b):\n",
    "    \"\"\" \n",
    "        constants O(1)\n",
    "    \"\"\"\n",
    "    if b <= 0:\n",
    "        return -1\n",
    "    div = a // b\n",
    "    return a - div * b"
   ]
  },
  {
   "cell_type": "code",
   "execution_count": 58,
   "metadata": {},
   "outputs": [
    {
     "data": {
      "text/plain": [
       "1"
      ]
     },
     "execution_count": 58,
     "metadata": {},
     "output_type": "execute_result"
    }
   ],
   "source": [
    "mod(10, 3)"
   ]
  },
  {
   "cell_type": "code",
   "execution_count": 60,
   "metadata": {},
   "outputs": [],
   "source": [
    "def sum_digits(num):\n",
    "    \"\"\" \n",
    "        log O(n log n)\n",
    "    \"\"\"\n",
    "    sum = 0\n",
    "    while num > 0:\n",
    "        sum += num%10\n",
    "        num /= 10\n",
    "    return sum"
   ]
  },
  {
   "cell_type": "code",
   "execution_count": 67,
   "metadata": {},
   "outputs": [
    {
     "data": {
      "text/plain": [
       "6.666666666666668"
      ]
     },
     "execution_count": 67,
     "metadata": {},
     "output_type": "execute_result"
    }
   ],
   "source": [
    "sum_digits(123)"
   ]
  },
  {
   "cell_type": "code",
   "execution_count": null,
   "metadata": {},
   "outputs": [],
   "source": []
  }
 ],
 "metadata": {
  "kernelspec": {
   "display_name": "Python 3",
   "language": "python",
   "name": "python3"
  },
  "language_info": {
   "codemirror_mode": {
    "name": "ipython",
    "version": 3
   },
   "file_extension": ".py",
   "mimetype": "text/x-python",
   "name": "python",
   "nbconvert_exporter": "python",
   "pygments_lexer": "ipython3",
   "version": "3.12.4"
  }
 },
 "nbformat": 4,
 "nbformat_minor": 2
}
