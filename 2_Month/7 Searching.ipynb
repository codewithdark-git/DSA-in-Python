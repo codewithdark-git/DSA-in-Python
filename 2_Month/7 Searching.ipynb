{
 "cells": [
  {
   "cell_type": "markdown",
   "metadata": {},
   "source": [
    "### Linear Search\n",
    "#### Brute Force Approach\n",
    "#### Time Complexity: O(n): The worst case scenario is that the element is at the end of the array, so we have to iterate through the entire array to find it. \n",
    "#### Space Complexity: O(1): We are not using any extra space to solve this problem."
   ]
  },
  {
   "cell_type": "code",
   "execution_count": 1,
   "metadata": {},
   "outputs": [],
   "source": [
    "def linear_search(arr, x):\n",
    "    for i in range(len(arr)):\n",
    "        if arr[i] == x :\n",
    "            return i\n",
    "        \n",
    "    return -1"
   ]
  },
  {
   "cell_type": "code",
   "execution_count": 5,
   "metadata": {},
   "outputs": [
    {
     "data": {
      "text/plain": [
       "5"
      ]
     },
     "execution_count": 5,
     "metadata": {},
     "output_type": "execute_result"
    }
   ],
   "source": [
    "arr = [12, 3, 4, 10, 40, 200]\n",
    "\n",
    "linear_search(arr, 200)"
   ]
  },
  {
   "cell_type": "markdown",
   "metadata": {},
   "source": [
    "### Binary Search\n",
    "##### Sorted Array is required\n",
    "##### Divide and Conquer Approach\n",
    "##### Time Complexity: O(log n): <br>In each iteration, we are reducing the size of the array by half. So, the time complexity is logarithmic.\n",
    "##### Space Complexity: O(1): <br>We are not using any extra space to solve this problem."
   ]
  },
  {
   "cell_type": "markdown",
   "metadata": {},
   "source": []
  }
 ],
 "metadata": {
  "kernelspec": {
   "display_name": "Python 3",
   "language": "python",
   "name": "python3"
  },
  "language_info": {
   "codemirror_mode": {
    "name": "ipython",
    "version": 3
   },
   "file_extension": ".py",
   "mimetype": "text/x-python",
   "name": "python",
   "nbconvert_exporter": "python",
   "pygments_lexer": "ipython3",
   "version": "3.12.4"
  }
 },
 "nbformat": 4,
 "nbformat_minor": 2
}
