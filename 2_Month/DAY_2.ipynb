{
 "cells": [
  {
   "cell_type": "markdown",
   "metadata": {},
   "source": [
    "### What is DSA?\n",
    "\n",
    "**DSA (Data Structures and Algorithms)** is a fundamental concept in computer science that deals with organizing and processing data efficiently. Data structures are ways to store and organize data, while algorithms are step-by-step procedures used to perform tasks or solve problems.\n",
    "\n",
    "### Importance of DSA:\n",
    "\n",
    "1. **Efficient Problem-Solving**: Helps in writing optimized code for complex tasks by choosing the right data structure and algorithm.\n",
    "2. **Better Coding Skills**: Mastering DSA improves your problem-solving skills, which is essential for coding interviews and competitive programming.\n",
    "3. **Foundational Knowledge**: Understanding DSA is crucial for developing scalable software and systems.\n",
    "4. **Job Interviews**: DSA is a major focus in technical interviews for software development roles.\n",
    "\n",
    "### Example of DSA in Action:\n",
    "\n",
    "- **Searching an Element in a List**:\n",
    "  - With an unsorted list: You might have to check every element (linear search), which is \\(O(n)\\).\n",
    "  - With a sorted list: You can use binary search, reducing the time to \\(O(\\log n)\\), making it much faster.\n",
    "\n",
    "### Types of DSA:\n",
    "\n",
    "1. **Linear Data Structures**:\n",
    "   - **Definition**: Data is arranged sequentially, one after another. \n",
    "   - **Examples**:\n",
    "     - **Array**: A collection of items stored at contiguous memory locations. Used to store multiple item of same type\n",
    "       - e.g : Array of student marks |12|23|45|54|12|56|87|98|45|23|\n",
    "       - **Disadvantage**:\n",
    "        - Fixed Size\n",
    "        - Homogenous (Store same Data type) e.g: 1, 3, 4, 5 , 6, 7\n",
    "     - **Linked List**: A series of nodes where each node contains data and a reference to the next node.\n",
    "     - **Stack**: A collection that follows LIFO (Last In, First Out) principle.\n",
    "     - **Queue**: A collection that follows FIFO (First In, First Out) principle.\n",
    "   - **Usage**: Useful for scenarios where data is processed in a sequence or order.\n",
    "\n",
    "2. **Non-Linear Data Structures**:\n",
    "   - **Definition**: Data is not arranged sequentially; it can branch out in various directions.\n",
    "   - **Examples**:\n",
    "     - **Tree**: A hierarchical structure with a root node and child nodes (e.g., binary tree).\n",
    "     - **Graph**: A collection of nodes (vertices) connected by edges; useful for representing networks.\n",
    "     - **Heap**: A special tree-based structure used for priority queues.\n",
    "   - **Usage**: Useful for representing hierarchical or interconnected data like social networks, file systems, etc.\n",
    "\n",
    "By understanding DSA, you'll be better equipped to solve problems in a structured and optimized way, which is key in both academic and professional coding challenges."
   ]
  },
  {
   "cell_type": "markdown",
   "metadata": {},
   "source": []
  }
 ],
 "metadata": {
  "language_info": {
   "name": "python"
  }
 },
 "nbformat": 4,
 "nbformat_minor": 2
}
