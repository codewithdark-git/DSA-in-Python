{
 "cells": [
  {
   "cell_type": "markdown",
   "metadata": {},
   "source": [
    "### Week 5 and 6: Data Structures and Algorithms in Python 📊\n",
    "\n",
    "**Topics Covered:**\n",
    "\n",
    "- **Data Structures Basics:**\n",
    "  - Big O Notation, Complexity Analysis\n",
    "- **Core Data Structures:**\n",
    "  - Arrays, Linked List, Hash Table, Stack, Queue\n",
    "- **Advanced Data Structures:**\n",
    "  - Tree, Graph\n",
    "- **Algorithms:**\n",
    "  - Binary Search, Bubble Sort, Quick Sort, Merge Sort\n",
    "- **Recursion**\n",
    "\n",
    "**Learning Resources:**\n",
    "\n",
    "- **DSA YouTube Playlist:**  \n",
    "  [Watch here](https://bit.ly/3uiW2Lf)\n",
    "\n",
    "**Motivation:**\n",
    "\n",
    "- **How Kaggle Helped This Person Become an ML Engineer:**  \n",
    "  [Read here](https://bit.ly/3RFVruy)\n",
    "\n",
    "**Assignment:**\n",
    "\n",
    "- ☐ Complete all exercises in the [DSA YouTube Playlist](https://bit.ly/3uiW2Lf)\n"
   ]
  }
 ],
 "metadata": {
  "language_info": {
   "name": "python"
  }
 },
 "nbformat": 4,
 "nbformat_minor": 2
}
