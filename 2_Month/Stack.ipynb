{
 "cells": [
  {
   "cell_type": "markdown",
   "metadata": {},
   "source": [
    "### What is a Stack?\n",
    "\n",
    "A **stack** is a linear data structure that follows a particular order in which operations are performed. The order may be **LIFO (Last In, First Out)** or **FILO (First In, Last Out)**. The most recent element added to the stack is the first one to be removed.\n",
    "\n",
    "### Key Operations in a Stack:\n",
    "1. **Push**: Add an element to the top of the stack.\n",
    "2. **Pop**: Remove the top element from the stack.\n",
    "3. **Peek/Top**: View the top element of the stack without removing it.\n",
    "4. **isEmpty**: Check if the stack is empty.\n",
    "\n",
    "### Example:\n",
    "Imagine a stack of plates:\n",
    "- **Push**: Adding a new plate on top.\n",
    "- **Pop**: Removing the top plate.\n",
    "- **Peek**: Looking at the top plate without taking it off.\n",
    "- **isEmpty**: Checking if there are no plates.\n",
    "\n",
    "### Advantages of Stacks:\n",
    "1. **Simplicity**: Easy to implement and understand.\n",
    "2. **Memory Management**: Helps in managing memory by handling function calls and storing local variables in programming languages.\n",
    "3. **Reversibility**: Easily reverses a collection of elements (like reversing a string).\n",
    "4. **Backtracking**: Useful in scenarios like undo mechanisms in text editors or navigating backward in web browsers.\n",
    "\n",
    "### Disadvantages of Stacks:\n",
    "1. **Limited Access**: You can only access the top element directly.\n",
    "2. **Fixed Size**: If implemented using an array, the stack size is fixed, leading to overflow issues.\n",
    "3. **Overflow and Underflow**: Overflow occurs when you try to add an element to a full stack, and underflow occurs when you try to remove an element from an empty stack.\n",
    "\n",
    "### Example Use Cases:\n",
    "1. **Function Call Management**:\n",
    "   - When a function calls another function, the return address is stored on a stack. Once the called function finishes execution, control returns to the calling function by popping the return address off the stack.\n",
    "\n",
    "2. **Undo Mechanism in Text Editors**:\n",
    "   - Every time you make a change, it gets pushed onto a stack. When you undo, the last change is popped from the stack.\n",
    "\n",
    "3. **Balanced Parentheses**:\n",
    "   - A stack can be used to check whether the parentheses in an expression are balanced (i.e., every opening bracket has a corresponding closing bracket).\n",
    "\n",
    "### Summary:\n",
    "Stacks are powerful data structures with applications in many areas, especially where LIFO behavior is required. While they offer simplicity and efficiency in certain scenarios, their restricted access and potential overflow/underflow issues can be limiting in others."
   ]
  },
  {
   "cell_type": "code",
   "execution_count": null,
   "metadata": {},
   "outputs": [],
   "source": [
    "class Stack:\n",
    "    def __init__(self):\n",
    "        self.items = []\n",
    "\n",
    "    def push(self, item):\n",
    "        self.items.append(item)\n",
    "\n",
    "    def pop(self):\n",
    "        if not self.is_empty():\n",
    "            return self.items.pop()\n",
    "        else:\n",
    "            return \"Stack is empty\"\n",
    "\n",
    "    def peek(self):\n",
    "        if not self.is_empty():\n",
    "            return self.items[-1]\n",
    "        else:\n",
    "            return \"Stack is empty\"\n",
    "\n",
    "    def is_empty(self):\n",
    "        return len(self.items) == 0\n",
    "\n",
    "    def size(self):\n",
    "        return len(self.items)\n",
    "\n",
    "# Example usage:\n",
    "stack = Stack()\n",
    "stack.push(10)\n",
    "stack.push(20)\n",
    "stack.push(30)\n",
    "\n",
    "print(stack.pop())  # Output: 30\n",
    "print(stack.peek())  # Output: 20"
   ]
  },
  {
   "cell_type": "code",
   "execution_count": 2,
   "metadata": {},
   "outputs": [],
   "source": [
    "class Node:\n",
    "    def __init__(self, value) -> None:\n",
    "        self.data = value\n",
    "        self.next = None"
   ]
  },
  {
   "cell_type": "code",
   "execution_count": 44,
   "metadata": {},
   "outputs": [],
   "source": [
    "class Stack:\n",
    "    def __init__(self) -> None:\n",
    "        self.top = None\n",
    "\n",
    "    def isempty(self):\n",
    "        return self.top == None\n",
    "    \n",
    "    def push(self, value):\n",
    "        new_node = Node(value)\n",
    "        new_node.next = self.top\n",
    "        self.top = new_node\n",
    "\n",
    "    def peek(self):\n",
    "        if self.isempty():\n",
    "            return 'Stack is empty'\n",
    "        return self.top.data\n",
    "    \n",
    "    def pop(self):\n",
    "        if self.isempty():\n",
    "            return 'Stack is empty'\n",
    "        popped_data = self.top.data\n",
    "        self.top = self.top.next\n",
    "        return popped_data\n",
    "    \n",
    "    def sizeof(self) -> int:\n",
    "        temp = self.top\n",
    "        count = 0\n",
    "        while temp:\n",
    "            count += 1\n",
    "            temp = temp.next\n",
    "        return count\n",
    "\n",
    "    def traverse(self):\n",
    "        temp = self.top\n",
    "        while temp:\n",
    "            print(temp.data, end='\\n')\n",
    "            temp = temp.next\n",
    "        "
   ]
  },
  {
   "cell_type": "code",
   "execution_count": 39,
   "metadata": {},
   "outputs": [],
   "source": [
    "s = Stack()"
   ]
  },
  {
   "cell_type": "code",
   "execution_count": 40,
   "metadata": {},
   "outputs": [
    {
     "data": {
      "text/plain": [
       "True"
      ]
     },
     "execution_count": 40,
     "metadata": {},
     "output_type": "execute_result"
    }
   ],
   "source": [
    "s.isempty()"
   ]
  },
  {
   "cell_type": "code",
   "execution_count": 41,
   "metadata": {},
   "outputs": [],
   "source": [
    "s.push(2)\n",
    "s.push(3)\n",
    "s.push(5)\n",
    "s.push(7)\n",
    "s.push(11)\n",
    "s.push(13)\n",
    "s.push(17)\n",
    "s.push(19)\n",
    "s.push(23)\n",
    "s.push(29)\n"
   ]
  },
  {
   "cell_type": "code",
   "execution_count": 42,
   "metadata": {},
   "outputs": [
    {
     "data": {
      "text/plain": [
       "False"
      ]
     },
     "execution_count": 42,
     "metadata": {},
     "output_type": "execute_result"
    }
   ],
   "source": [
    "s.isempty()"
   ]
  },
  {
   "cell_type": "code",
   "execution_count": 43,
   "metadata": {},
   "outputs": [
    {
     "data": {
      "text/plain": [
       "10"
      ]
     },
     "execution_count": 43,
     "metadata": {},
     "output_type": "execute_result"
    }
   ],
   "source": [
    "s.__sizeof__()"
   ]
  },
  {
   "cell_type": "code",
   "execution_count": 33,
   "metadata": {},
   "outputs": [
    {
     "name": "stdout",
     "output_type": "stream",
     "text": [
      "29\n",
      "23\n",
      "19\n",
      "17\n",
      "13\n",
      "11\n",
      "7\n",
      "5\n",
      "3\n",
      "2\n"
     ]
    }
   ],
   "source": [
    "s.traverse()"
   ]
  },
  {
   "cell_type": "code",
   "execution_count": 34,
   "metadata": {},
   "outputs": [
    {
     "data": {
      "text/plain": [
       "29"
      ]
     },
     "execution_count": 34,
     "metadata": {},
     "output_type": "execute_result"
    }
   ],
   "source": [
    "s.pop()"
   ]
  },
  {
   "cell_type": "code",
   "execution_count": 35,
   "metadata": {},
   "outputs": [
    {
     "data": {
      "text/plain": [
       "23"
      ]
     },
     "execution_count": 35,
     "metadata": {},
     "output_type": "execute_result"
    }
   ],
   "source": [
    "s.pop()"
   ]
  },
  {
   "cell_type": "code",
   "execution_count": 36,
   "metadata": {},
   "outputs": [
    {
     "name": "stdout",
     "output_type": "stream",
     "text": [
      "19\n",
      "17\n",
      "13\n",
      "11\n",
      "7\n",
      "5\n",
      "3\n",
      "2\n"
     ]
    }
   ],
   "source": [
    "s.traverse()"
   ]
  },
  {
   "cell_type": "code",
   "execution_count": 37,
   "metadata": {},
   "outputs": [
    {
     "data": {
      "text/plain": [
       "19"
      ]
     },
     "execution_count": 37,
     "metadata": {},
     "output_type": "execute_result"
    }
   ],
   "source": [
    "s.peek()"
   ]
  },
  {
   "cell_type": "markdown",
   "metadata": {},
   "source": [
    "##### String reversing Using Stack <br> Time complexity: O(n) <br> Space complexity: O(n)"
   ]
  },
  {
   "cell_type": "code",
   "execution_count": 45,
   "metadata": {},
   "outputs": [],
   "source": [
    "string = Stack()"
   ]
  },
  {
   "cell_type": "code",
   "execution_count": 46,
   "metadata": {},
   "outputs": [],
   "source": [
    "for i in 'Hello':\n",
    "    string.push(i)"
   ]
  },
  {
   "cell_type": "code",
   "execution_count": 47,
   "metadata": {},
   "outputs": [],
   "source": [
    "str_ = ''\n",
    "while (string.isempty()==False):\n",
    "    str_ += string.pop()"
   ]
  },
  {
   "cell_type": "code",
   "execution_count": 48,
   "metadata": {},
   "outputs": [
    {
     "data": {
      "text/plain": [
       "'olleH'"
      ]
     },
     "execution_count": 48,
     "metadata": {},
     "output_type": "execute_result"
    }
   ],
   "source": [
    "str_"
   ]
  },
  {
   "cell_type": "code",
   "execution_count": 49,
   "metadata": {},
   "outputs": [],
   "source": [
    "def reverse(string):\n",
    "    string_ = Stack()\n",
    "    for i in string:\n",
    "        string_.push(i)\n",
    "    str_ = ''\n",
    "    while (string_.isempty()==False):\n",
    "        str_ += string_.pop()\n",
    "    return str_"
   ]
  },
  {
   "cell_type": "code",
   "execution_count": 50,
   "metadata": {},
   "outputs": [
    {
     "data": {
      "text/plain": [
       "'olleH'"
      ]
     },
     "execution_count": 50,
     "metadata": {},
     "output_type": "execute_result"
    }
   ],
   "source": [
    "reverse('Hello')"
   ]
  },
  {
   "cell_type": "markdown",
   "metadata": {},
   "source": [
    "##### Text Editor:"
   ]
  },
  {
   "cell_type": "code",
   "execution_count": 57,
   "metadata": {},
   "outputs": [],
   "source": [
    "def text_editor(text, pat):\n",
    "    \"\"\"\n",
    "    Simulates a simple text editor with undo and redo operations.\n",
    "    \n",
    "    Parameters:\n",
    "    - text (str): The initial text in the editor.\n",
    "    - pat (str): A pattern of 'u' (undo) and 'r' (redo) operations to be applied on the text.\n",
    "\n",
    "    Undo ('u') operation:\n",
    "    - Removes the last character from the text and stores it in the redo stack.\n",
    "    \n",
    "    Redo ('r') operation:\n",
    "    - Restores the last undone character by moving it from the redo stack back to the text.\n",
    "\n",
    "    Returns:\n",
    "    - str: The text after all undo and redo operations have been applied.\n",
    "    \n",
    "    Example:\n",
    "    - Input: text = 'Hello', pat = 'uurru'\n",
    "    - Output: 'Hell'\n",
    "    \"\"\"\n",
    "    undo = Stack()\n",
    "    redo = Stack()\n",
    "\n",
    "    for i in text:\n",
    "        undo.push(i)\n",
    "\n",
    "    for i in pat:\n",
    "        if i == 'u':\n",
    "            data = undo.pop()\n",
    "            redo.push(data)\n",
    "        else:\n",
    "            data = redo.pop()\n",
    "            undo.push(data)\n",
    "        \n",
    "    res = ''\n",
    "    \n",
    "    while not undo.isempty():\n",
    "        res = undo.pop() + res\n",
    "\n",
    "    return res\n"
   ]
  },
  {
   "cell_type": "code",
   "execution_count": 66,
   "metadata": {},
   "outputs": [
    {
     "data": {
      "text/plain": [
       "'pyth'"
      ]
     },
     "execution_count": 66,
     "metadata": {},
     "output_type": "execute_result"
    }
   ],
   "source": [
    "text_editor('python','ruruuu')"
   ]
  },
  {
   "cell_type": "markdown",
   "metadata": {},
   "source": [
    "##### celebrity problem"
   ]
  },
  {
   "cell_type": "markdown",
   "metadata": {},
   "source": [
    "The **Celebrity Problem** is a classic puzzle in data structures and algorithms (DSA) that is often used to test problem-solving skills related to stacks, arrays, and matrix manipulation. \n",
    "\n",
    "### Problem Statement:\n",
    "Imagine you're at a party with `n` people, and among them, there is (or isn't) a celebrity. A **celebrity** is someone who:\n",
    "1. **Is known by everyone** in the party.\n",
    "2. **Knows no one** at the party.\n",
    "\n",
    "Your task is to identify who the celebrity is or determine that there is no celebrity. The key point is that you can ask only one type of question: \"Does person A know person B?\" \n",
    "\n",
    "### Input:\n",
    "- An `n x n` matrix `M` where `M[i][j] = 1` means person `i` knows person `j`, and `M[i][j] = 0` means person `i` does not know person `j`.\n",
    "\n",
    "### Output:\n",
    "- The index of the celebrity if one exists, otherwise `-1`.\n",
    "\n",
    "### Constraints:\n",
    "- You can ask only `O(n)` questions (i.e., in linear time).\n",
    "\n",
    "### Example:\n",
    "Consider the following matrix `M`:\n",
    "\n",
    "```\n",
    "M = [\n",
    " [0, 1, 0],\n",
    " [0, 0, 0],\n",
    " [0, 1, 0]\n",
    "]\n",
    "```\n",
    "\n",
    "- `M[0][1] = 1` means person 0 knows person 1.\n",
    "- `M[1][0] = 0` means person 1 doesn't know person 0.\n",
    "- `M[1][2] = 0` means person 1 doesn't know person 2.\n",
    "\n",
    "Here, person 1 is a celebrity because everyone knows person 1, and person 1 knows no one.\n",
    "\n",
    "### Approach to Solve the Problem:\n",
    "\n",
    "#### 1. **Using Two Pointers (Optimal Solution):**\n",
    "\n",
    "- **Step 1**: Initialize two pointers, `i` and `j`, starting at the beginning and end of the list of people.\n",
    "- **Step 2**: Move the pointers based on the relationship:\n",
    "  - If person `i` knows person `j`, then `i` cannot be the celebrity (move `i` forward).\n",
    "  - If person `i` does not know person `j`, then `j` cannot be the celebrity (move `j` backward).\n",
    "- **Step 3**: At the end of this process, `i` and `j` should converge to a single index, say `c`. This index is the candidate for the celebrity.\n",
    "- **Step 4**: Verify the candidate:\n",
    "  - Ensure that every other person knows `c`.\n",
    "  - Ensure that `c` knows no one.\n",
    "\n",
    "If both conditions are satisfied, `c` is the celebrity; otherwise, there is no celebrity.\n",
    "\n",
    "#### 2. **Implementation in Python:**\n",
    "\n",
    "```python\n",
    "def find_celebrity(M, n):\n",
    "    # Step 1: Find the candidate\n",
    "    candidate = 0\n",
    "    for i in range(1, n):\n",
    "        if M[candidate][i] == 1:\n",
    "            candidate = i\n",
    "    \n",
    "    # Step 2: Verify the candidate\n",
    "    for i in range(n):\n",
    "        if i != candidate:\n",
    "            if M[candidate][i] == 1 or M[i][candidate] == 0:\n",
    "                return -1  # Not a celebrity\n",
    "    \n",
    "    return candidate\n",
    "\n",
    "# Example usage\n",
    "M = [\n",
    "    [0, 1, 0],\n",
    "    [0, 0, 0],\n",
    "    [0, 1, 0]\n",
    "]\n",
    "n = len(M)\n",
    "print(find_celebrity(M, n))  # Output: 1\n",
    "```\n",
    "\n",
    "### Advantages:\n",
    "- **Time Complexity**: The optimal solution works in `O(n)` time.\n",
    "- **Space Complexity**: It uses `O(1)` additional space.\n",
    "\n",
    "### Disadvantages:\n",
    "- The problem assumes that the celebrity (if exists) is unique. If multiple celebrities exist, the problem needs to be redefined.\n",
    "- This problem primarily deals with binary relationships (knows/doesn't know), which may not always apply to real-world scenarios.\n",
    "\n",
    "### Summary:\n",
    "The Celebrity Problem is a useful exercise to practice optimization techniques in algorithms, such as reducing time complexity from `O(n^2)` to `O(n)` through careful problem analysis."
   ]
  },
  {
   "cell_type": "code",
   "execution_count": 67,
   "metadata": {},
   "outputs": [],
   "source": []
  },
  {
   "cell_type": "code",
   "execution_count": 79,
   "metadata": {},
   "outputs": [],
   "source": [
    "def find_the_celeb(M):\n",
    "    s = Stack()\n",
    "    for i in range(len(M)):\n",
    "        s.push(i)\n",
    "\n",
    "    while s.sizeof() >= 2:\n",
    "        i = s.pop()\n",
    "        j = s.pop()\n",
    "\n",
    "        if M[i][j] == 0:\n",
    "            # j is not a celebrity\n",
    "            s.push(i)\n",
    "        else:\n",
    "            # i is not a celebrity\n",
    "            s.push(j)\n",
    "\n",
    "    celeb = s.pop()\n",
    "\n",
    "    for i in range(len(M)):\n",
    "        if i !=celeb:\n",
    "            if M[i][celeb] == 0 or M[celeb][i] == 1:\n",
    "                return 'No one is a Celebrity'\n",
    "\n",
    "    return celeb"
   ]
  },
  {
   "cell_type": "code",
   "execution_count": 87,
   "metadata": {},
   "outputs": [
    {
     "data": {
      "text/plain": [
       "2"
      ]
     },
     "execution_count": 87,
     "metadata": {},
     "output_type": "execute_result"
    }
   ],
   "source": [
    "M = [\n",
    " [0, 0, 1, 1],\n",
    " [0, 0, 1, 0],\n",
    " [0, 0, 1, 0], # celebrity\n",
    " [0, 0, 1, 0]\n",
    "]\n",
    "find_the_celeb(M)"
   ]
  },
  {
   "cell_type": "code",
   "execution_count": null,
   "metadata": {},
   "outputs": [],
   "source": []
  }
 ],
 "metadata": {
  "kernelspec": {
   "display_name": "Python 3",
   "language": "python",
   "name": "python3"
  },
  "language_info": {
   "codemirror_mode": {
    "name": "ipython",
    "version": 3
   },
   "file_extension": ".py",
   "mimetype": "text/x-python",
   "name": "python",
   "nbconvert_exporter": "python",
   "pygments_lexer": "ipython3",
   "version": "3.12.4"
  }
 },
 "nbformat": 4,
 "nbformat_minor": 2
}
